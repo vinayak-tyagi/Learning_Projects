{
 "cells": [
  {
   "cell_type": "code",
   "execution_count": 1,
   "metadata": {},
   "outputs": [],
   "source": [
    "from tensorflow.keras.models import Sequential\n",
    "from tensorflow.keras.layers import Dense, Dropout, Activation, Flatten\n",
    "from tensorflow.keras.layers import Conv2D, MaxPooling2D\n",
    "from tensorflow.keras.callbacks import TensorBoard\n",
    "from tensorflow.keras.preprocessing.image import ImageDataGenerator\n",
    "\n",
    "import pickle\n",
    "import time"
   ]
  },
  {
   "cell_type": "code",
   "execution_count": 2,
   "metadata": {},
   "outputs": [],
   "source": [
    "# C:\\Users\\vinayak tyagi\\Desktop\\ML tutorials-Notes\\cat&dog\n",
    "graph_dir = \"F:\\\\Python Projects\\\\GRAPH\\\\cat&dog\\\\\"\n",
    "train_path = \"C:\\\\Users\\\\vinay\\\\OneDrive\\\\Desktop\\ML tutorials-Notes\\\\cat&dog\\\\train\"\n",
    "test_path = \"C:\\\\Users\\\\vinay\\OneDrive\\\\Desktop\\\\ML tutorials-Notes\\\\cat&dog\\\\test\"\n",
    "validation_path = \"C:\\\\Users\\\\vinay\\\\OneDrive\\Desktop\\\\ML tutorials-Notes\\\\cat&dog\\\\valid\""
   ]
  },
  {
   "cell_type": "code",
   "execution_count": 3,
   "metadata": {},
   "outputs": [
    {
     "name": "stdout",
     "output_type": "stream",
     "text": [
      "Found 40 images belonging to 2 classes.\n",
      "Found 20 images belonging to 2 classes.\n",
      "Found 10 images belonging to 2 classes.\n"
     ]
    }
   ],
   "source": [
    "train_batches = ImageDataGenerator().flow_from_directory(train_path, target_size=(224,224), classes=['dog', 'cat'], batch_size=10)\n",
    "valid_batches = ImageDataGenerator().flow_from_directory(validation_path, target_size=(224,224), classes=['dog', 'cat'], batch_size=4)\n",
    "test_batches = ImageDataGenerator().flow_from_directory(test_path, target_size=(224,224), classes=['dog', 'cat'], batch_size=10)"
   ]
  },
  {
   "cell_type": "code",
   "execution_count": 4,
   "metadata": {},
   "outputs": [
    {
     "name": "stdout",
     "output_type": "stream",
     "text": [
      "3-conv-64-nodes-0-dense-1554433164-categorical_crossentropy\n",
      "WARNING:tensorflow:From c:\\users\\vinay\\appdata\\local\\programs\\python\\python36\\lib\\site-packages\\tensorflow\\python\\ops\\resource_variable_ops.py:435: colocate_with (from tensorflow.python.framework.ops) is deprecated and will be removed in a future version.\n",
      "Instructions for updating:\n",
      "Colocations handled automatically by placer.\n",
      "WARNING:tensorflow:From c:\\users\\vinay\\appdata\\local\\programs\\python\\python36\\lib\\site-packages\\tensorflow\\python\\ops\\math_ops.py:3066: to_int32 (from tensorflow.python.ops.math_ops) is deprecated and will be removed in a future version.\n",
      "Instructions for updating:\n",
      "Use tf.cast instead.\n",
      "Epoch 1/10\n",
      "5/5 [==============================] - 1s 217ms/step - loss: 8.0590 - acc: 0.5000\n",
      "4/4 [==============================] - 9s 2s/step - loss: 7.1053 - acc: 0.5500 - val_loss: 8.0590 - val_acc: 0.5000\n",
      "Epoch 2/10\n",
      "5/5 [==============================] - 1s 209ms/step - loss: 8.0590 - acc: 0.5000\n",
      "4/4 [==============================] - 7s 2s/step - loss: 8.0590 - acc: 0.5000 - val_loss: 8.0590 - val_acc: 0.5000\n",
      "Epoch 3/10\n",
      "5/5 [==============================] - 1s 200ms/step - loss: 8.0590 - acc: 0.5000\n",
      "4/4 [==============================] - 7s 2s/step - loss: 8.0590 - acc: 0.5000 - val_loss: 8.0590 - val_acc: 0.5000\n",
      "Epoch 4/10\n",
      "5/5 [==============================] - 1s 201ms/step - loss: 8.0590 - acc: 0.5000\n",
      "4/4 [==============================] - 7s 2s/step - loss: 8.0590 - acc: 0.5000 - val_loss: 8.0590 - val_acc: 0.5000\n",
      "Epoch 5/10\n",
      "5/5 [==============================] - 1s 199ms/step - loss: 8.0590 - acc: 0.5000\n",
      "4/4 [==============================] - 7s 2s/step - loss: 8.0590 - acc: 0.5000 - val_loss: 8.0590 - val_acc: 0.5000\n",
      "Epoch 6/10\n",
      "5/5 [==============================] - 1s 284ms/step - loss: 8.0590 - acc: 0.5000\n",
      "4/4 [==============================] - 8s 2s/step - loss: 8.0590 - acc: 0.5000 - val_loss: 8.0590 - val_acc: 0.5000\n",
      "Epoch 7/10\n",
      "5/5 [==============================] - 1s 200ms/step - loss: 8.0590 - acc: 0.5000\n",
      "4/4 [==============================] - 8s 2s/step - loss: 8.0590 - acc: 0.5000 - val_loss: 8.0590 - val_acc: 0.5000\n",
      "Epoch 8/10\n",
      "5/5 [==============================] - 1s 206ms/step - loss: 8.0590 - acc: 0.5000\n",
      "4/4 [==============================] - 9s 2s/step - loss: 8.0590 - acc: 0.5000 - val_loss: 8.0590 - val_acc: 0.5000\n",
      "Epoch 9/10\n",
      "5/5 [==============================] - 1s 194ms/step - loss: 8.0590 - acc: 0.5000\n",
      "4/4 [==============================] - 8s 2s/step - loss: 8.0590 - acc: 0.5000 - val_loss: 8.0590 - val_acc: 0.5000\n",
      "Epoch 10/10\n",
      "5/5 [==============================] - 1s 197ms/step - loss: 8.0590 - acc: 0.5000\n",
      "4/4 [==============================] - 7s 2s/step - loss: 8.0590 - acc: 0.5000 - val_loss: 8.0590 - val_acc: 0.5000\n"
     ]
    }
   ],
   "source": [
    "dense_layers = [0]\n",
    "layer_sizes = [64]\n",
    "conv_layers = [3]\n",
    "\n",
    "for dense_layer in dense_layers:\n",
    "    for layer_size in layer_sizes:\n",
    "        for conv_layer in conv_layers:\n",
    "            NAME = \"{}-conv-{}-nodes-{}-dense-{}-categorical_crossentropy\".format(conv_layer, layer_size, dense_layer, int(time.time()))\n",
    "            print(NAME)\n",
    "            \n",
    "            model = Sequential()\n",
    "            \n",
    "            model.add(Conv2D(layer_size ,(3,3), input_shape=(224,224,3)))\n",
    "            model.add(Activation('relu'))\n",
    "            model.add(MaxPooling2D(pool_size=(2,2)))\n",
    "            \n",
    "            for l in range(conv_layer-1):\n",
    "                model.add(Conv2D(layer_size ,(3,3)))\n",
    "                model.add(Activation('relu'))\n",
    "                model.add(MaxPooling2D(pool_size=(2,2)))\n",
    "                \n",
    "            model.add(Flatten())\n",
    "            \n",
    "            for _ in range(dense_layer):\n",
    "                model.add(Dense(layer_size))\n",
    "                model.add(Activation('relu'))\n",
    "            \n",
    "            model.add(Dense(2))\n",
    "            model.add(Activation(\"softmax\"))\n",
    "            \n",
    "#             model.add(Dense(1))\n",
    "#             model.add(Activation(\"sigmoid\"))\n",
    "       \n",
    "            tensorboard = TensorBoard(log_dir= graph_dir+\"logs/{}\".format(NAME))\n",
    "            \n",
    "#             model.compile(loss= 'binary_crossentropy',\n",
    "#                          optimizer='adam',\n",
    "#                          metrics=['accuracy'])\n",
    "\n",
    "            model.compile(loss= 'categorical_crossentropy',\n",
    "                         optimizer='adam',\n",
    "                         metrics=['accuracy'])\n",
    "            \n",
    "            model.fit_generator(train_batches, \n",
    "                                steps_per_epoch=4,\n",
    "                                validation_data=valid_batches, \n",
    "                                validation_steps=4,\n",
    "                                epochs=10, \n",
    "                                verbose=1,\n",
    "                                callbacks=[tensorboard])\n",
    "            \n",
    "            \n",
    "model.save('64x3-CNN.h5')           "
   ]
  },
  {
   "cell_type": "code",
   "execution_count": null,
   "metadata": {},
   "outputs": [],
   "source": []
  },
  {
   "cell_type": "code",
   "execution_count": null,
   "metadata": {},
   "outputs": [],
   "source": []
  }
 ],
 "metadata": {
  "kernelspec": {
   "display_name": "Python 3",
   "language": "python",
   "name": "python3"
  },
  "language_info": {
   "codemirror_mode": {
    "name": "ipython",
    "version": 3
   },
   "file_extension": ".py",
   "mimetype": "text/x-python",
   "name": "python",
   "nbconvert_exporter": "python",
   "pygments_lexer": "ipython3",
   "version": "3.6.7"
  }
 },
 "nbformat": 4,
 "nbformat_minor": 2
}
