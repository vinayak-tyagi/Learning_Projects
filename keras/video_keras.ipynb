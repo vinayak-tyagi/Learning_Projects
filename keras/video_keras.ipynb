{
 "cells": [
  {
   "cell_type": "code",
   "execution_count": 1,
   "metadata": {},
   "outputs": [
    {
     "name": "stderr",
     "output_type": "stream",
     "text": [
      "Using TensorFlow backend.\n",
      "c:\\users\\vinayak tyagi\\appdata\\local\\programs\\python\\python36\\lib\\site-packages\\sklearn\\cross_validation.py:41: DeprecationWarning: This module was deprecated in version 0.18 in favor of the model_selection module into which all the refactored classes and functions are moved. Also note that the interface of the new CV iterators are different from that of this module. This module will be removed in 0.20.\n",
      "  \"This module will be removed in 0.20.\", DeprecationWarning)\n"
     ]
    }
   ],
   "source": [
    "import keras\n",
    "import tensorflow as tf\n",
    "import matplotlib.pyplot as plt\n",
    "import pandas as pd\n",
    "import cv2\n",
    "import os\n",
    "import time\n",
    "import shutil\n",
    "import tqdm\n",
    "import pickle\n",
    "import tflearn\n",
    "import numpy as np\n",
    "from sklearn.cross_validation import train_test_split\n",
    "from random import shuffle\n",
    "from keras.preprocessing.image import ImageDataGenerator\n",
    "\n",
    "\n",
    "from keras.callbacks import TensorBoard\n",
    "from keras import backend as K\n",
    "from keras.layers import Conv2D, Embedding, Dense, LSTM, TimeDistributed, concatenate, Input, SimpleRNN, Dropout, Activation\n",
    "from keras.models import Model, Sequential\n",
    "from keras.applications import InceptionV3 \n",
    "\n",
    "%matplotlib inline"
   ]
  },
  {
   "cell_type": "code",
   "execution_count": 2,
   "metadata": {},
   "outputs": [],
   "source": [
    "# setting up question and importing up the file\n",
    "\n",
    "# Question = 'What are they doing ?'\n",
    "\n",
    "# jog_dir = 'C:\\\\Users\\\\vinayak tyagi\\\\Downloads\\\\Rough\\\\jogging-20180627T014223Z-001\\\\jogging'\n",
    "# walk_dir = 'C:\\\\Users\\\\vinayak tyagi\\\\Downloads\\\\Rough\\\\Walking-20180627T014406Z-001\\\\Walking'\n",
    "# tt_dir = 'C:\\\\Users\\\\vinayak tyagi\\\\Downloads\\\\Rough\\\\train-testing-data'\n",
    "\n",
    "\n",
    "parent_dir = 'C:\\\\Users\\\\vinayak tyagi\\\\Downloads\\\\Rough\\\\jog&walk'\n",
    "test_dir = 'C:\\\\Users\\\\vinayak tyagi\\\\Downloads\\\\Rough\\\\jog&walk\\\\test'\n",
    "train_dir = 'C:\\\\Users\\\\vinayak tyagi\\\\Downloads\\\\Rough\\\\jog&walk\\\\tain'\n",
    "valid_dir = 'C:\\\\Users\\\\vinayak tyagi\\\\Downloads\\\\Rough\\\\jog&walk\\\\valid'"
   ]
  },
  {
   "cell_type": "code",
   "execution_count": 3,
   "metadata": {},
   "outputs": [],
   "source": [
    "# creating the labels of the data\n",
    "def label(vid):\n",
    "    word_label = vid.split('_')[-3]\n",
    "    if word_label == 'jogging':  return[1,0]\n",
    "    elif word_label == 'walking': return[0,1]"
   ]
  },
  {
   "cell_type": "code",
   "execution_count": 4,
   "metadata": {},
   "outputs": [],
   "source": [
    "def create_train_data():\n",
    "    train_data = []\n",
    "    for vid in os.listdir(train_dir):\n",
    "        labels = label(vid)\n",
    "        path = os.path.join(train_dir,vid)\n",
    "        vid = cv2.VideoCapture(path)\n",
    "        train_data.append([np.array(vid), np.array(labels)])\n",
    "    shuffle(train_data)\n",
    "#     np.save('jogVswalk.npy',train_data)\n",
    "#     print(train_data)\n",
    "    return train_data\n",
    "        "
   ]
  },
  {
   "cell_type": "code",
   "execution_count": 5,
   "metadata": {},
   "outputs": [
    {
     "name": "stdout",
     "output_type": "stream",
     "text": [
      "['C:\\\\Users\\\\vinayak tyagi\\\\Downloads\\\\Rough\\\\jog&walk\\\\test\\\\jog\\\\folder-0', 'C:\\\\Users\\\\vinayak tyagi\\\\Downloads\\\\Rough\\\\jog&walk\\\\test\\\\jog\\\\folder-1', 'C:\\\\Users\\\\vinayak tyagi\\\\Downloads\\\\Rough\\\\jog&walk\\\\test\\\\jog\\\\folder-2', 'C:\\\\Users\\\\vinayak tyagi\\\\Downloads\\\\Rough\\\\jog&walk\\\\test\\\\jog\\\\folder-3', 'C:\\\\Users\\\\vinayak tyagi\\\\Downloads\\\\Rough\\\\jog&walk\\\\test\\\\jog\\\\folder-4', 'C:\\\\Users\\\\vinayak tyagi\\\\Downloads\\\\Rough\\\\jog&walk\\\\test\\\\jog\\\\folder-5', 'C:\\\\Users\\\\vinayak tyagi\\\\Downloads\\\\Rough\\\\jog&walk\\\\test\\\\jog\\\\folder-6', 'C:\\\\Users\\\\vinayak tyagi\\\\Downloads\\\\Rough\\\\jog&walk\\\\test\\\\jog\\\\folder-7', 'C:\\\\Users\\\\vinayak tyagi\\\\Downloads\\\\Rough\\\\jog&walk\\\\test\\\\jog\\\\folder-8', 'C:\\\\Users\\\\vinayak tyagi\\\\Downloads\\\\Rough\\\\jog&walk\\\\test\\\\jog\\\\folder-9', 'C:\\\\Users\\\\vinayak tyagi\\\\Downloads\\\\Rough\\\\jog&walk\\\\test\\\\jog\\\\folder-10', 'C:\\\\Users\\\\vinayak tyagi\\\\Downloads\\\\Rough\\\\jog&walk\\\\test\\\\walk\\\\folder-0', 'C:\\\\Users\\\\vinayak tyagi\\\\Downloads\\\\Rough\\\\jog&walk\\\\test\\\\walk\\\\folder-1', 'C:\\\\Users\\\\vinayak tyagi\\\\Downloads\\\\Rough\\\\jog&walk\\\\test\\\\walk\\\\folder-2', 'C:\\\\Users\\\\vinayak tyagi\\\\Downloads\\\\Rough\\\\jog&walk\\\\test\\\\walk\\\\folder-3', 'C:\\\\Users\\\\vinayak tyagi\\\\Downloads\\\\Rough\\\\jog&walk\\\\test\\\\walk\\\\folder-4', 'C:\\\\Users\\\\vinayak tyagi\\\\Downloads\\\\Rough\\\\jog&walk\\\\test\\\\walk\\\\folder-5', 'C:\\\\Users\\\\vinayak tyagi\\\\Downloads\\\\Rough\\\\jog&walk\\\\test\\\\walk\\\\folder-6', 'C:\\\\Users\\\\vinayak tyagi\\\\Downloads\\\\Rough\\\\jog&walk\\\\test\\\\walk\\\\folder-7', 'C:\\\\Users\\\\vinayak tyagi\\\\Downloads\\\\Rough\\\\jog&walk\\\\test\\\\walk\\\\folder-8', 'C:\\\\Users\\\\vinayak tyagi\\\\Downloads\\\\Rough\\\\jog&walk\\\\test\\\\walk\\\\folder-9', 'C:\\\\Users\\\\vinayak tyagi\\\\Downloads\\\\Rough\\\\jog&walk\\\\test\\\\walk\\\\folder-10', 'C:\\\\Users\\\\vinayak tyagi\\\\Downloads\\\\Rough\\\\jog&walk\\\\train\\\\jog\\\\folder-0', 'C:\\\\Users\\\\vinayak tyagi\\\\Downloads\\\\Rough\\\\jog&walk\\\\train\\\\jog\\\\folder-1', 'C:\\\\Users\\\\vinayak tyagi\\\\Downloads\\\\Rough\\\\jog&walk\\\\train\\\\jog\\\\folder-2', 'C:\\\\Users\\\\vinayak tyagi\\\\Downloads\\\\Rough\\\\jog&walk\\\\train\\\\jog\\\\folder-3', 'C:\\\\Users\\\\vinayak tyagi\\\\Downloads\\\\Rough\\\\jog&walk\\\\train\\\\jog\\\\folder-4', 'C:\\\\Users\\\\vinayak tyagi\\\\Downloads\\\\Rough\\\\jog&walk\\\\train\\\\jog\\\\folder-5', 'C:\\\\Users\\\\vinayak tyagi\\\\Downloads\\\\Rough\\\\jog&walk\\\\train\\\\jog\\\\folder-6', 'C:\\\\Users\\\\vinayak tyagi\\\\Downloads\\\\Rough\\\\jog&walk\\\\train\\\\jog\\\\folder-7', 'C:\\\\Users\\\\vinayak tyagi\\\\Downloads\\\\Rough\\\\jog&walk\\\\train\\\\jog\\\\folder-8', 'C:\\\\Users\\\\vinayak tyagi\\\\Downloads\\\\Rough\\\\jog&walk\\\\train\\\\jog\\\\folder-9', 'C:\\\\Users\\\\vinayak tyagi\\\\Downloads\\\\Rough\\\\jog&walk\\\\train\\\\jog\\\\folder-10', 'C:\\\\Users\\\\vinayak tyagi\\\\Downloads\\\\Rough\\\\jog&walk\\\\train\\\\jog\\\\folder-11', 'C:\\\\Users\\\\vinayak tyagi\\\\Downloads\\\\Rough\\\\jog&walk\\\\train\\\\jog\\\\folder-12', 'C:\\\\Users\\\\vinayak tyagi\\\\Downloads\\\\Rough\\\\jog&walk\\\\train\\\\jog\\\\folder-13', 'C:\\\\Users\\\\vinayak tyagi\\\\Downloads\\\\Rough\\\\jog&walk\\\\train\\\\jog\\\\folder-14', 'C:\\\\Users\\\\vinayak tyagi\\\\Downloads\\\\Rough\\\\jog&walk\\\\train\\\\jog\\\\folder-15', 'C:\\\\Users\\\\vinayak tyagi\\\\Downloads\\\\Rough\\\\jog&walk\\\\train\\\\jog\\\\folder-16', 'C:\\\\Users\\\\vinayak tyagi\\\\Downloads\\\\Rough\\\\jog&walk\\\\train\\\\jog\\\\folder-17', 'C:\\\\Users\\\\vinayak tyagi\\\\Downloads\\\\Rough\\\\jog&walk\\\\train\\\\jog\\\\folder-18', 'C:\\\\Users\\\\vinayak tyagi\\\\Downloads\\\\Rough\\\\jog&walk\\\\train\\\\jog\\\\folder-19', 'C:\\\\Users\\\\vinayak tyagi\\\\Downloads\\\\Rough\\\\jog&walk\\\\train\\\\jog\\\\folder-20', 'C:\\\\Users\\\\vinayak tyagi\\\\Downloads\\\\Rough\\\\jog&walk\\\\train\\\\jog\\\\folder-21', 'C:\\\\Users\\\\vinayak tyagi\\\\Downloads\\\\Rough\\\\jog&walk\\\\train\\\\jog\\\\folder-22', 'C:\\\\Users\\\\vinayak tyagi\\\\Downloads\\\\Rough\\\\jog&walk\\\\train\\\\jog\\\\folder-23', 'C:\\\\Users\\\\vinayak tyagi\\\\Downloads\\\\Rough\\\\jog&walk\\\\train\\\\jog\\\\folder-24', 'C:\\\\Users\\\\vinayak tyagi\\\\Downloads\\\\Rough\\\\jog&walk\\\\train\\\\jog\\\\folder-25', 'C:\\\\Users\\\\vinayak tyagi\\\\Downloads\\\\Rough\\\\jog&walk\\\\train\\\\jog\\\\folder-26', 'C:\\\\Users\\\\vinayak tyagi\\\\Downloads\\\\Rough\\\\jog&walk\\\\train\\\\jog\\\\folder-27', 'C:\\\\Users\\\\vinayak tyagi\\\\Downloads\\\\Rough\\\\jog&walk\\\\train\\\\jog\\\\folder-28', 'C:\\\\Users\\\\vinayak tyagi\\\\Downloads\\\\Rough\\\\jog&walk\\\\train\\\\jog\\\\folder-29', 'C:\\\\Users\\\\vinayak tyagi\\\\Downloads\\\\Rough\\\\jog&walk\\\\train\\\\jog\\\\folder-30', 'C:\\\\Users\\\\vinayak tyagi\\\\Downloads\\\\Rough\\\\jog&walk\\\\train\\\\jog\\\\folder-31', 'C:\\\\Users\\\\vinayak tyagi\\\\Downloads\\\\Rough\\\\jog&walk\\\\train\\\\jog\\\\folder-32', 'C:\\\\Users\\\\vinayak tyagi\\\\Downloads\\\\Rough\\\\jog&walk\\\\train\\\\walk\\\\folder-0', 'C:\\\\Users\\\\vinayak tyagi\\\\Downloads\\\\Rough\\\\jog&walk\\\\train\\\\walk\\\\folder-1', 'C:\\\\Users\\\\vinayak tyagi\\\\Downloads\\\\Rough\\\\jog&walk\\\\train\\\\walk\\\\folder-2', 'C:\\\\Users\\\\vinayak tyagi\\\\Downloads\\\\Rough\\\\jog&walk\\\\train\\\\walk\\\\folder-3', 'C:\\\\Users\\\\vinayak tyagi\\\\Downloads\\\\Rough\\\\jog&walk\\\\train\\\\walk\\\\folder-4', 'C:\\\\Users\\\\vinayak tyagi\\\\Downloads\\\\Rough\\\\jog&walk\\\\train\\\\walk\\\\folder-5', 'C:\\\\Users\\\\vinayak tyagi\\\\Downloads\\\\Rough\\\\jog&walk\\\\train\\\\walk\\\\folder-6', 'C:\\\\Users\\\\vinayak tyagi\\\\Downloads\\\\Rough\\\\jog&walk\\\\train\\\\walk\\\\folder-7', 'C:\\\\Users\\\\vinayak tyagi\\\\Downloads\\\\Rough\\\\jog&walk\\\\train\\\\walk\\\\folder-8', 'C:\\\\Users\\\\vinayak tyagi\\\\Downloads\\\\Rough\\\\jog&walk\\\\train\\\\walk\\\\folder-9', 'C:\\\\Users\\\\vinayak tyagi\\\\Downloads\\\\Rough\\\\jog&walk\\\\train\\\\walk\\\\folder-10', 'C:\\\\Users\\\\vinayak tyagi\\\\Downloads\\\\Rough\\\\jog&walk\\\\train\\\\walk\\\\folder-11', 'C:\\\\Users\\\\vinayak tyagi\\\\Downloads\\\\Rough\\\\jog&walk\\\\train\\\\walk\\\\folder-12', 'C:\\\\Users\\\\vinayak tyagi\\\\Downloads\\\\Rough\\\\jog&walk\\\\train\\\\walk\\\\folder-13', 'C:\\\\Users\\\\vinayak tyagi\\\\Downloads\\\\Rough\\\\jog&walk\\\\train\\\\walk\\\\folder-14', 'C:\\\\Users\\\\vinayak tyagi\\\\Downloads\\\\Rough\\\\jog&walk\\\\train\\\\walk\\\\folder-15', 'C:\\\\Users\\\\vinayak tyagi\\\\Downloads\\\\Rough\\\\jog&walk\\\\train\\\\walk\\\\folder-16', 'C:\\\\Users\\\\vinayak tyagi\\\\Downloads\\\\Rough\\\\jog&walk\\\\train\\\\walk\\\\folder-17', 'C:\\\\Users\\\\vinayak tyagi\\\\Downloads\\\\Rough\\\\jog&walk\\\\train\\\\walk\\\\folder-18', 'C:\\\\Users\\\\vinayak tyagi\\\\Downloads\\\\Rough\\\\jog&walk\\\\train\\\\walk\\\\folder-19', 'C:\\\\Users\\\\vinayak tyagi\\\\Downloads\\\\Rough\\\\jog&walk\\\\train\\\\walk\\\\folder-20', 'C:\\\\Users\\\\vinayak tyagi\\\\Downloads\\\\Rough\\\\jog&walk\\\\train\\\\walk\\\\folder-21', 'C:\\\\Users\\\\vinayak tyagi\\\\Downloads\\\\Rough\\\\jog&walk\\\\train\\\\walk\\\\folder-22', 'C:\\\\Users\\\\vinayak tyagi\\\\Downloads\\\\Rough\\\\jog&walk\\\\train\\\\walk\\\\folder-23', 'C:\\\\Users\\\\vinayak tyagi\\\\Downloads\\\\Rough\\\\jog&walk\\\\train\\\\walk\\\\folder-24', 'C:\\\\Users\\\\vinayak tyagi\\\\Downloads\\\\Rough\\\\jog&walk\\\\train\\\\walk\\\\folder-25', 'C:\\\\Users\\\\vinayak tyagi\\\\Downloads\\\\Rough\\\\jog&walk\\\\train\\\\walk\\\\folder-26', 'C:\\\\Users\\\\vinayak tyagi\\\\Downloads\\\\Rough\\\\jog&walk\\\\train\\\\walk\\\\folder-27', 'C:\\\\Users\\\\vinayak tyagi\\\\Downloads\\\\Rough\\\\jog&walk\\\\train\\\\walk\\\\folder-28', 'C:\\\\Users\\\\vinayak tyagi\\\\Downloads\\\\Rough\\\\jog&walk\\\\train\\\\walk\\\\folder-29', 'C:\\\\Users\\\\vinayak tyagi\\\\Downloads\\\\Rough\\\\jog&walk\\\\train\\\\walk\\\\folder-30', 'C:\\\\Users\\\\vinayak tyagi\\\\Downloads\\\\Rough\\\\jog&walk\\\\train\\\\walk\\\\folder-31', 'C:\\\\Users\\\\vinayak tyagi\\\\Downloads\\\\Rough\\\\jog&walk\\\\train\\\\walk\\\\folder-32', 'C:\\\\Users\\\\vinayak tyagi\\\\Downloads\\\\Rough\\\\jog&walk\\\\valid\\\\jog\\\\folder-0', 'C:\\\\Users\\\\vinayak tyagi\\\\Downloads\\\\Rough\\\\jog&walk\\\\valid\\\\jog\\\\folder-1', 'C:\\\\Users\\\\vinayak tyagi\\\\Downloads\\\\Rough\\\\jog&walk\\\\valid\\\\jog\\\\folder-2', 'C:\\\\Users\\\\vinayak tyagi\\\\Downloads\\\\Rough\\\\jog&walk\\\\valid\\\\jog\\\\folder-3', 'C:\\\\Users\\\\vinayak tyagi\\\\Downloads\\\\Rough\\\\jog&walk\\\\valid\\\\jog\\\\folder-4', 'C:\\\\Users\\\\vinayak tyagi\\\\Downloads\\\\Rough\\\\jog&walk\\\\valid\\\\walk\\\\folder-0', 'C:\\\\Users\\\\vinayak tyagi\\\\Downloads\\\\Rough\\\\jog&walk\\\\valid\\\\walk\\\\folder-1', 'C:\\\\Users\\\\vinayak tyagi\\\\Downloads\\\\Rough\\\\jog&walk\\\\valid\\\\walk\\\\folder-2', 'C:\\\\Users\\\\vinayak tyagi\\\\Downloads\\\\Rough\\\\jog&walk\\\\valid\\\\walk\\\\folder-3', 'C:\\\\Users\\\\vinayak tyagi\\\\Downloads\\\\Rough\\\\jog&walk\\\\valid\\\\walk\\\\folder-4']\n",
      "File Build Sucessfully\n"
     ]
    }
   ],
   "source": [
    "list_of_folder = []\n",
    "def make_dir():\n",
    "    a = os.listdir(parent_dir)\n",
    "\n",
    "    for i in range(len(a)):\n",
    "        child_dir = parent_dir + \"\\\\\"+str(a[i])\n",
    "        m = os.listdir(child_dir)\n",
    "\n",
    "        for j in range(len(m)):\n",
    "                kid_dir = child_dir + \"\\\\\"+str(m[j])\n",
    "                z = os.listdir(kid_dir)\n",
    "    #             print('\\n---------------******************--------------------\\n')\n",
    "    #             print(z)\n",
    "\n",
    "                for p in range(len(z)):\n",
    "                    infant_dir = kid_dir + \"\\\\folder-\" +str(p)\n",
    "                    list_of_folder.append(infant_dir)\n",
    "#                     print(infant_dir)\n",
    "        \n",
    "                    if not os.path.isdir(infant_dir):\n",
    "                        os.makedirs(infant_dir) \n",
    "\n",
    "                        cap = cv2.VideoCapture(kid_dir +\"\\\\\"+ z[p])\n",
    "                        count = 0\n",
    "\n",
    "                        while cap.isOpened():\n",
    "                            ret,frame = cap.read()\n",
    "#                             print(ret)\n",
    "                            if ret == True:\n",
    "                                cv2.imshow('window-name',frame)\n",
    "                                cv2.imwrite(infant_dir+\"\\\\ frame-%d.jpg\" % count, frame)\n",
    "                                count = count + 1\n",
    "#                                 print(count)\n",
    "                                if cv2.waitKey(10) & 0xFF == ord('q'):\n",
    "                                    break\n",
    "                            else: \n",
    "                                    break\n",
    "\n",
    "#                         print(count)\n",
    "                        cap.release()\n",
    "                        cv2.destroyAllWindows()\n",
    "           \n",
    "\n",
    "#  Now it's time to process the list file            \n",
    "if not os.path.isfile(\"C:\\\\Users\\\\vinayak tyagi\\\\Downloads\\\\Rough\\\\jog&walk\\\\test.txt\"):\n",
    "    make_dir()\n",
    "\n",
    "if os.path.isfile(\"C:\\\\Users\\\\vinayak tyagi\\\\Downloads\\\\Rough\\\\jog&walk\\\\test.txt\"):\n",
    "    with open(\"C:\\\\Users\\\\vinayak tyagi\\\\Downloads\\\\Rough\\\\jog&walk\\\\test.txt\",\"rb\") as fp:\n",
    "        list_of_folder =  pickle.load(fp)\n",
    "        if len(list_of_folder) == 0:\n",
    "            make_dir()\n",
    "\n",
    "if len(list_of_folder)  == 98:\n",
    "    print(list_of_folder)\n",
    "    with open(\"C:\\\\Users\\\\vinayak tyagi\\\\Downloads\\\\Rough\\\\jog&walk\\\\test.txt\",\"wb\") as fp:\n",
    "        pickle.dump(list_of_folder , fp)\n",
    "        print(\"File Build Sucessfully\")\n",
    "        \n",
    "\n",
    "if len(list_of_folder) < 98:\n",
    "    for i in range(len(list_of_folder)):\n",
    "        shutil.rmtree(list_of_folder[i])\n",
    "    print(\"Data removed Sucessfully\")\n",
    "        \n",
    "    \n",
    "# if a[0] == 'jog':\n",
    "#     open_path = test_dir + \"\\\\jog\"\n",
    "    \n",
    "#     no_vid = os.listdir(open_path)\n",
    "#     print(no_vid)\n",
    "#     for i in range(len(no_vid)):\n",
    "#         folder = open_path + \"\\\\ folder-\"+str(i)\n",
    "#         if not os.path.isdir(folder):\n",
    "#             os.makedirs(folder)\n",
    "             \n",
    "#             cap = cv2.VideoCapture(open_path +\"\\\\\"+ no_vid[i])\n",
    "#             count = 0\n",
    "\n",
    "#             while cap.isOpened():\n",
    "#                 ret,frame = cap.read()\n",
    "#                 if ret == True:\n",
    "#                     cv2.imshow('window-name',frame)\n",
    "#                     cv2.imwrite(folder+\"\\\\ frame-%d.jpg\" % count, frame)\n",
    "#                     count = count + 1\n",
    "#                     print(count)\n",
    "#                     if cv2.waitKey(10) & 0xFF == ord('q'):\n",
    "#                         break\n",
    "#                 else: \n",
    "#                     break\n",
    "\n",
    "#             print(count)\n",
    "#             cap.release()\n",
    "#             cv2.destroyAllWindows()\n",
    "       \n",
    "\n",
    "    \n",
    "# data = create_train_data()\n",
    "# data"
   ]
  },
  {
   "cell_type": "code",
   "execution_count": 6,
   "metadata": {},
   "outputs": [
    {
     "name": "stdout",
     "output_type": "stream",
     "text": [
      "['C:\\\\Users\\\\vinayak tyagi\\\\Downloads\\\\Rough\\\\jog&walk\\\\train\\\\walk\\\\folder-20', 'C:\\\\Users\\\\vinayak tyagi\\\\Downloads\\\\Rough\\\\jog&walk\\\\train\\\\walk\\\\folder-30', 'C:\\\\Users\\\\vinayak tyagi\\\\Downloads\\\\Rough\\\\jog&walk\\\\train\\\\jog\\\\folder-27', 'C:\\\\Users\\\\vinayak tyagi\\\\Downloads\\\\Rough\\\\jog&walk\\\\train\\\\walk\\\\folder-12', 'C:\\\\Users\\\\vinayak tyagi\\\\Downloads\\\\Rough\\\\jog&walk\\\\test\\\\jog\\\\folder-10', 'C:\\\\Users\\\\vinayak tyagi\\\\Downloads\\\\Rough\\\\jog&walk\\\\train\\\\jog\\\\folder-8', 'C:\\\\Users\\\\vinayak tyagi\\\\Downloads\\\\Rough\\\\jog&walk\\\\test\\\\walk\\\\folder-8', 'C:\\\\Users\\\\vinayak tyagi\\\\Downloads\\\\Rough\\\\jog&walk\\\\test\\\\jog\\\\folder-9', 'C:\\\\Users\\\\vinayak tyagi\\\\Downloads\\\\Rough\\\\jog&walk\\\\valid\\\\jog\\\\folder-0', 'C:\\\\Users\\\\vinayak tyagi\\\\Downloads\\\\Rough\\\\jog&walk\\\\valid\\\\walk\\\\folder-3', 'C:\\\\Users\\\\vinayak tyagi\\\\Downloads\\\\Rough\\\\jog&walk\\\\train\\\\jog\\\\folder-10', 'C:\\\\Users\\\\vinayak tyagi\\\\Downloads\\\\Rough\\\\jog&walk\\\\train\\\\walk\\\\folder-4', 'C:\\\\Users\\\\vinayak tyagi\\\\Downloads\\\\Rough\\\\jog&walk\\\\train\\\\jog\\\\folder-0', 'C:\\\\Users\\\\vinayak tyagi\\\\Downloads\\\\Rough\\\\jog&walk\\\\train\\\\jog\\\\folder-25', 'C:\\\\Users\\\\vinayak tyagi\\\\Downloads\\\\Rough\\\\jog&walk\\\\valid\\\\jog\\\\folder-1', 'C:\\\\Users\\\\vinayak tyagi\\\\Downloads\\\\Rough\\\\jog&walk\\\\test\\\\jog\\\\folder-1', 'C:\\\\Users\\\\vinayak tyagi\\\\Downloads\\\\Rough\\\\jog&walk\\\\train\\\\jog\\\\folder-23', 'C:\\\\Users\\\\vinayak tyagi\\\\Downloads\\\\Rough\\\\jog&walk\\\\train\\\\jog\\\\folder-13', 'C:\\\\Users\\\\vinayak tyagi\\\\Downloads\\\\Rough\\\\jog&walk\\\\train\\\\walk\\\\folder-24', 'C:\\\\Users\\\\vinayak tyagi\\\\Downloads\\\\Rough\\\\jog&walk\\\\train\\\\jog\\\\folder-3', 'C:\\\\Users\\\\vinayak tyagi\\\\Downloads\\\\Rough\\\\jog&walk\\\\test\\\\jog\\\\folder-6', 'C:\\\\Users\\\\vinayak tyagi\\\\Downloads\\\\Rough\\\\jog&walk\\\\train\\\\walk\\\\folder-26', 'C:\\\\Users\\\\vinayak tyagi\\\\Downloads\\\\Rough\\\\jog&walk\\\\test\\\\walk\\\\folder-4', 'C:\\\\Users\\\\vinayak tyagi\\\\Downloads\\\\Rough\\\\jog&walk\\\\train\\\\jog\\\\folder-26', 'C:\\\\Users\\\\vinayak tyagi\\\\Downloads\\\\Rough\\\\jog&walk\\\\test\\\\walk\\\\folder-3', 'C:\\\\Users\\\\vinayak tyagi\\\\Downloads\\\\Rough\\\\jog&walk\\\\test\\\\walk\\\\folder-6', 'C:\\\\Users\\\\vinayak tyagi\\\\Downloads\\\\Rough\\\\jog&walk\\\\train\\\\walk\\\\folder-28', 'C:\\\\Users\\\\vinayak tyagi\\\\Downloads\\\\Rough\\\\jog&walk\\\\train\\\\jog\\\\folder-20', 'C:\\\\Users\\\\vinayak tyagi\\\\Downloads\\\\Rough\\\\jog&walk\\\\test\\\\jog\\\\folder-4', 'C:\\\\Users\\\\vinayak tyagi\\\\Downloads\\\\Rough\\\\jog&walk\\\\train\\\\walk\\\\folder-10', 'C:\\\\Users\\\\vinayak tyagi\\\\Downloads\\\\Rough\\\\jog&walk\\\\train\\\\walk\\\\folder-0', 'C:\\\\Users\\\\vinayak tyagi\\\\Downloads\\\\Rough\\\\jog&walk\\\\train\\\\jog\\\\folder-11', 'C:\\\\Users\\\\vinayak tyagi\\\\Downloads\\\\Rough\\\\jog&walk\\\\train\\\\jog\\\\folder-18', 'C:\\\\Users\\\\vinayak tyagi\\\\Downloads\\\\Rough\\\\jog&walk\\\\train\\\\jog\\\\folder-22', 'C:\\\\Users\\\\vinayak tyagi\\\\Downloads\\\\Rough\\\\jog&walk\\\\test\\\\jog\\\\folder-5', 'C:\\\\Users\\\\vinayak tyagi\\\\Downloads\\\\Rough\\\\jog&walk\\\\test\\\\walk\\\\folder-5', 'C:\\\\Users\\\\vinayak tyagi\\\\Downloads\\\\Rough\\\\jog&walk\\\\train\\\\walk\\\\folder-16', 'C:\\\\Users\\\\vinayak tyagi\\\\Downloads\\\\Rough\\\\jog&walk\\\\test\\\\walk\\\\folder-0', 'C:\\\\Users\\\\vinayak tyagi\\\\Downloads\\\\Rough\\\\jog&walk\\\\train\\\\walk\\\\folder-7', 'C:\\\\Users\\\\vinayak tyagi\\\\Downloads\\\\Rough\\\\jog&walk\\\\train\\\\jog\\\\folder-14', 'C:\\\\Users\\\\vinayak tyagi\\\\Downloads\\\\Rough\\\\jog&walk\\\\train\\\\jog\\\\folder-6', 'C:\\\\Users\\\\vinayak tyagi\\\\Downloads\\\\Rough\\\\jog&walk\\\\test\\\\jog\\\\folder-3', 'C:\\\\Users\\\\vinayak tyagi\\\\Downloads\\\\Rough\\\\jog&walk\\\\train\\\\jog\\\\folder-12', 'C:\\\\Users\\\\vinayak tyagi\\\\Downloads\\\\Rough\\\\jog&walk\\\\train\\\\walk\\\\folder-17', 'C:\\\\Users\\\\vinayak tyagi\\\\Downloads\\\\Rough\\\\jog&walk\\\\valid\\\\walk\\\\folder-1', 'C:\\\\Users\\\\vinayak tyagi\\\\Downloads\\\\Rough\\\\jog&walk\\\\train\\\\jog\\\\folder-31', 'C:\\\\Users\\\\vinayak tyagi\\\\Downloads\\\\Rough\\\\jog&walk\\\\train\\\\walk\\\\folder-5', 'C:\\\\Users\\\\vinayak tyagi\\\\Downloads\\\\Rough\\\\jog&walk\\\\train\\\\jog\\\\folder-15', 'C:\\\\Users\\\\vinayak tyagi\\\\Downloads\\\\Rough\\\\jog&walk\\\\train\\\\walk\\\\folder-22', 'C:\\\\Users\\\\vinayak tyagi\\\\Downloads\\\\Rough\\\\jog&walk\\\\train\\\\walk\\\\folder-14', 'C:\\\\Users\\\\vinayak tyagi\\\\Downloads\\\\Rough\\\\jog&walk\\\\train\\\\jog\\\\folder-29', 'C:\\\\Users\\\\vinayak tyagi\\\\Downloads\\\\Rough\\\\jog&walk\\\\train\\\\jog\\\\folder-28', 'C:\\\\Users\\\\vinayak tyagi\\\\Downloads\\\\Rough\\\\jog&walk\\\\train\\\\walk\\\\folder-3', 'C:\\\\Users\\\\vinayak tyagi\\\\Downloads\\\\Rough\\\\jog&walk\\\\train\\\\walk\\\\folder-31', 'C:\\\\Users\\\\vinayak tyagi\\\\Downloads\\\\Rough\\\\jog&walk\\\\train\\\\walk\\\\folder-1', 'C:\\\\Users\\\\vinayak tyagi\\\\Downloads\\\\Rough\\\\jog&walk\\\\test\\\\walk\\\\folder-1', 'C:\\\\Users\\\\vinayak tyagi\\\\Downloads\\\\Rough\\\\jog&walk\\\\test\\\\walk\\\\folder-10', 'C:\\\\Users\\\\vinayak tyagi\\\\Downloads\\\\Rough\\\\jog&walk\\\\train\\\\walk\\\\folder-29', 'C:\\\\Users\\\\vinayak tyagi\\\\Downloads\\\\Rough\\\\jog&walk\\\\valid\\\\walk\\\\folder-0', 'C:\\\\Users\\\\vinayak tyagi\\\\Downloads\\\\Rough\\\\jog&walk\\\\test\\\\walk\\\\folder-2', 'C:\\\\Users\\\\vinayak tyagi\\\\Downloads\\\\Rough\\\\jog&walk\\\\train\\\\jog\\\\folder-2', 'C:\\\\Users\\\\vinayak tyagi\\\\Downloads\\\\Rough\\\\jog&walk\\\\train\\\\walk\\\\folder-6', 'C:\\\\Users\\\\vinayak tyagi\\\\Downloads\\\\Rough\\\\jog&walk\\\\test\\\\jog\\\\folder-7', 'C:\\\\Users\\\\vinayak tyagi\\\\Downloads\\\\Rough\\\\jog&walk\\\\train\\\\walk\\\\folder-8', 'C:\\\\Users\\\\vinayak tyagi\\\\Downloads\\\\Rough\\\\jog&walk\\\\train\\\\walk\\\\folder-9', 'C:\\\\Users\\\\vinayak tyagi\\\\Downloads\\\\Rough\\\\jog&walk\\\\train\\\\jog\\\\folder-7', 'C:\\\\Users\\\\vinayak tyagi\\\\Downloads\\\\Rough\\\\jog&walk\\\\valid\\\\jog\\\\folder-3', 'C:\\\\Users\\\\vinayak tyagi\\\\Downloads\\\\Rough\\\\jog&walk\\\\train\\\\jog\\\\folder-4']\n",
      "['walk', 'walk', 'jog', 'walk', 'jog', 'jog', 'walk', 'jog', 'jog', 'walk', 'jog', 'walk', 'jog', 'jog', 'jog', 'jog', 'jog', 'jog', 'walk', 'jog', 'jog', 'walk', 'walk', 'jog', 'walk', 'walk', 'walk', 'jog', 'jog', 'walk', 'walk', 'jog', 'jog', 'jog', 'jog', 'walk', 'walk', 'walk', 'walk', 'jog', 'jog', 'jog', 'jog', 'walk', 'walk', 'jog', 'walk', 'jog', 'walk', 'walk', 'jog', 'jog', 'walk', 'walk', 'walk', 'walk', 'walk', 'walk', 'walk', 'walk', 'jog', 'walk', 'jog', 'walk', 'walk', 'jog', 'jog', 'jog']\n"
     ]
    }
   ],
   "source": [
    "test_data =[]\n",
    "for i in range(len(list_of_folder)):\n",
    "#     print(list_of_folder[i])\n",
    "    a = list_of_folder[i].split(\"\\\\\")\n",
    "    test_data.append(a[-2])\n",
    "\n",
    "train_x, test_x, train_y, test_y = train_test_split(list_of_folder, test_data,  test_size = 0.3)\n",
    "\n",
    "print(train_x)\n",
    "print(train_y)"
   ]
  },
  {
   "cell_type": "code",
   "execution_count": null,
   "metadata": {},
   "outputs": [],
   "source": [
    "keras_model = Sequential()\n",
    "keras_model.add(Conv3D(8, (5, 5, 5), input_shape=(3, 8, 8, 8), name='conv'))\n",
    "keras_model.compile(loss=keras.losses.categorical_crossentropy, optimizer=keras.optimizers.SGD())"
   ]
  },
  {
   "cell_type": "code",
   "execution_count": null,
   "metadata": {},
   "outputs": [],
   "source": []
  },
  {
   "cell_type": "code",
   "execution_count": null,
   "metadata": {},
   "outputs": [],
   "source": []
  },
  {
   "cell_type": "code",
   "execution_count": 8,
   "metadata": {},
   "outputs": [],
   "source": [
    "# train , test = train_test_split(data, test_size = 0.3, random_state = 7)"
   ]
  },
  {
   "cell_type": "code",
   "execution_count": 9,
   "metadata": {},
   "outputs": [],
   "source": [
    "# data = np.array(data)\n",
    "# data.shape\n",
    "\n",
    "# def data_genrator(given):\n",
    "#     a = []\n",
    "#     b = []\n",
    "\n",
    "#     for i in range(len(given)):\n",
    "#         a.append(given[i][0].tolist())\n",
    "#         b.append(given[i][1].tolist())\n",
    "#     return a,b\n",
    "\n",
    "# x_train, y_train = data_genrator(train) \n",
    "# x_test, y_test = data_genrator(test)"
   ]
  },
  {
   "cell_type": "code",
   "execution_count": 10,
   "metadata": {},
   "outputs": [],
   "source": [
    "# print(len(x_train)); print(len(x_test))"
   ]
  },
  {
   "cell_type": "code",
   "execution_count": 11,
   "metadata": {},
   "outputs": [],
   "source": [
    "# x_train = np.array(x_train)\n",
    "# a = x_train.reshape(x_train.shape[0], 1, 1)\n",
    "# print(a)\n",
    "# print(y_train)"
   ]
  },
  {
   "cell_type": "code",
   "execution_count": 12,
   "metadata": {},
   "outputs": [],
   "source": [
    "# # # now making the model\n",
    "\n",
    "# vedio = Input(shape=(None,213,213,3))\n",
    "# cnn = InceptionV3(weights='imagenet',\n",
    "#                  include_top=False)\n",
    "\n",
    "# cnn.trainable = False\n",
    "# encoded_frames = TimeDistributed(cnn)(vedio)\n",
    "# print(encoded_frames)\n",
    "# encoded_vid = LSTM(512, return_sequences=False)(encoded_frames)\n",
    "\n",
    "\n",
    "# question = Input(shape=(100), dtype='int32')\n",
    "# x = Embeeding(10000,256, mask_zero=True)(question) \n",
    "# encoded_q = LSTM(128)(x)\n",
    "\n",
    "# x = concatenate([encoded_vid, encoded_q])\n",
    "# x = Dense(128,activation=tf.nn.relu)(x)\n",
    "# outputs = Dense(10000)(x)\n",
    "\n",
    "# model = Model([video,question],outputs)\n",
    "\n",
    "# model.compile(optimizer = tf.AdamOptimizer(),\n",
    "# #              loss = tf.softmax_crossentropy_with_logits)\n",
    "\n",
    "# model = Sequential()\n",
    "\n",
    "# model.add(LSTM(150,\n",
    "#                input_shape=( 7, 339),\n",
    "#                return_sequences=True))\n",
    "# model.add(Dropout(0.2))\n",
    "\n",
    "# model.add(LSTM(\n",
    "#     200,\n",
    "#     return_sequences=True))\n",
    "# model.add(Dropout(0.2))\n",
    "\n",
    "# model.add(LSTM(\n",
    "#     150,\n",
    "#     return_sequences=True))\n",
    "# model.add(Dropout(0.2))\n",
    "\n",
    "# model.add(Dense(\n",
    "#     output_dim=1))\n",
    "# model.add(Activation('sigmoid'))\n",
    "\n",
    "# start = time.time()\n",
    "\n",
    "# model.compile(loss='mse', optimizer='rmsprop')\n",
    "\n",
    "# print('compilation time : ', time.time() - start)\n",
    "\n",
    "# model.fit(x_train, y_train, batch_size=64, nb_epoch=10)\n"
   ]
  },
  {
   "cell_type": "code",
   "execution_count": null,
   "metadata": {},
   "outputs": [],
   "source": []
  },
  {
   "cell_type": "code",
   "execution_count": null,
   "metadata": {},
   "outputs": [],
   "source": []
  },
  {
   "cell_type": "code",
   "execution_count": null,
   "metadata": {},
   "outputs": [],
   "source": []
  },
  {
   "cell_type": "code",
   "execution_count": null,
   "metadata": {},
   "outputs": [],
   "source": []
  },
  {
   "cell_type": "code",
   "execution_count": null,
   "metadata": {},
   "outputs": [],
   "source": []
  },
  {
   "cell_type": "code",
   "execution_count": null,
   "metadata": {},
   "outputs": [],
   "source": []
  }
 ],
 "metadata": {
  "kernelspec": {
   "display_name": "Python 3",
   "language": "python",
   "name": "python3"
  },
  "language_info": {
   "codemirror_mode": {
    "name": "ipython",
    "version": 3
   },
   "file_extension": ".py",
   "mimetype": "text/x-python",
   "name": "python",
   "nbconvert_exporter": "python",
   "pygments_lexer": "ipython3",
   "version": "3.6.7"
  }
 },
 "nbformat": 4,
 "nbformat_minor": 2
}
