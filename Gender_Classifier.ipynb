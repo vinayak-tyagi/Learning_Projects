{
 "cells": [
  {
   "cell_type": "code",
   "execution_count": 1,
   "metadata": {},
   "outputs": [
    {
     "name": "stderr",
     "output_type": "stream",
     "text": [
      "c:\\users\\vinayak tyagi\\appdata\\local\\programs\\python\\python36\\lib\\site-packages\\sklearn\\cross_validation.py:41: DeprecationWarning: This module was deprecated in version 0.18 in favor of the model_selection module into which all the refactored classes and functions are moved. Also note that the interface of the new CV iterators are different from that of this module. This module will be removed in 0.20.\n",
      "  \"This module will be removed in 0.20.\", DeprecationWarning)\n"
     ]
    }
   ],
   "source": [
    "'''\n",
    "PROBLEM DESC\n",
    "https://www.statcrunch.com/5.0/viewreport.php?reportid=35115#Result4\n",
    "'''\n",
    "import matplotlib.pyplot as plt\n",
    "import pandas as pd\n",
    "import seaborn as sns\n",
    "import numpy as np\n",
    "import sklearn \n",
    "\n",
    "from mpl_toolkits.mplot3d import axes3d\n",
    "from sklearn.cross_validation import train_test_split\n",
    "from sklearn.tree import DecisionTreeClassifier\n",
    "from sklearn.linear_model import LinearRegression\n",
    "%matplotlib inline"
   ]
  },
  {
   "cell_type": "code",
   "execution_count": 2,
   "metadata": {},
   "outputs": [
    {
     "data": {
      "text/html": [
       "<div>\n",
       "<style scoped>\n",
       "    .dataframe tbody tr th:only-of-type {\n",
       "        vertical-align: middle;\n",
       "    }\n",
       "\n",
       "    .dataframe tbody tr th {\n",
       "        vertical-align: top;\n",
       "    }\n",
       "\n",
       "    .dataframe thead th {\n",
       "        text-align: right;\n",
       "    }\n",
       "</style>\n",
       "<table border=\"1\" class=\"dataframe\">\n",
       "  <thead>\n",
       "    <tr style=\"text-align: right;\">\n",
       "      <th></th>\n",
       "      <th>height</th>\n",
       "      <th>foot</th>\n",
       "    </tr>\n",
       "  </thead>\n",
       "  <tbody>\n",
       "    <tr>\n",
       "      <th>0</th>\n",
       "      <td>68.0</td>\n",
       "      <td>12.0</td>\n",
       "    </tr>\n",
       "    <tr>\n",
       "      <th>1</th>\n",
       "      <td>66.0</td>\n",
       "      <td>9.0</td>\n",
       "    </tr>\n",
       "    <tr>\n",
       "      <th>2</th>\n",
       "      <td>75.0</td>\n",
       "      <td>12.0</td>\n",
       "    </tr>\n",
       "    <tr>\n",
       "      <th>3</th>\n",
       "      <td>71.0</td>\n",
       "      <td>11.0</td>\n",
       "    </tr>\n",
       "    <tr>\n",
       "      <th>4</th>\n",
       "      <td>67.0</td>\n",
       "      <td>12.0</td>\n",
       "    </tr>\n",
       "  </tbody>\n",
       "</table>\n",
       "</div>"
      ],
      "text/plain": [
       "   height  foot\n",
       "0    68.0  12.0\n",
       "1    66.0   9.0\n",
       "2    75.0  12.0\n",
       "3    71.0  11.0\n",
       "4    67.0  12.0"
      ]
     },
     "execution_count": 2,
     "metadata": {},
     "output_type": "execute_result"
    }
   ],
   "source": [
    "# data file dir's\n",
    "\n",
    "hf_dir = \"C:\\\\Users\\\\vinayak tyagi\\\\Downloads\\\\height-foot.csv\"\n",
    "wh_dir = \"C:\\\\Users\\\\vinayak tyagi\\\\Downloads\\\\weight-height.csv\"\n",
    "whf_dir = \"C:\\\\Users\\\\vinayak tyagi\\\\Downloads\\\\weight-height-foot.csv\"\n",
    "\n",
    "# Now reading the hf_file\n",
    "hf_data = pd.read_csv(hf_dir)\n",
    "hf_data.head()"
   ]
  },
  {
   "cell_type": "code",
   "execution_count": 3,
   "metadata": {},
   "outputs": [
    {
     "data": {
      "text/html": [
       "<div>\n",
       "<style scoped>\n",
       "    .dataframe tbody tr th:only-of-type {\n",
       "        vertical-align: middle;\n",
       "    }\n",
       "\n",
       "    .dataframe tbody tr th {\n",
       "        vertical-align: top;\n",
       "    }\n",
       "\n",
       "    .dataframe thead th {\n",
       "        text-align: right;\n",
       "    }\n",
       "</style>\n",
       "<table border=\"1\" class=\"dataframe\">\n",
       "  <thead>\n",
       "    <tr style=\"text-align: right;\">\n",
       "      <th></th>\n",
       "      <th>Gender</th>\n",
       "      <th>Height</th>\n",
       "      <th>Weight</th>\n",
       "    </tr>\n",
       "  </thead>\n",
       "  <tbody>\n",
       "    <tr>\n",
       "      <th>0</th>\n",
       "      <td>Male</td>\n",
       "      <td>73.847017</td>\n",
       "      <td>241.893563</td>\n",
       "    </tr>\n",
       "    <tr>\n",
       "      <th>1</th>\n",
       "      <td>Male</td>\n",
       "      <td>68.781904</td>\n",
       "      <td>162.310473</td>\n",
       "    </tr>\n",
       "    <tr>\n",
       "      <th>2</th>\n",
       "      <td>Male</td>\n",
       "      <td>74.110105</td>\n",
       "      <td>212.740856</td>\n",
       "    </tr>\n",
       "    <tr>\n",
       "      <th>3</th>\n",
       "      <td>Male</td>\n",
       "      <td>71.730978</td>\n",
       "      <td>220.042470</td>\n",
       "    </tr>\n",
       "    <tr>\n",
       "      <th>4</th>\n",
       "      <td>Male</td>\n",
       "      <td>69.881796</td>\n",
       "      <td>206.349801</td>\n",
       "    </tr>\n",
       "  </tbody>\n",
       "</table>\n",
       "</div>"
      ],
      "text/plain": [
       "  Gender     Height      Weight\n",
       "0   Male  73.847017  241.893563\n",
       "1   Male  68.781904  162.310473\n",
       "2   Male  74.110105  212.740856\n",
       "3   Male  71.730978  220.042470\n",
       "4   Male  69.881796  206.349801"
      ]
     },
     "execution_count": 3,
     "metadata": {},
     "output_type": "execute_result"
    }
   ],
   "source": [
    "# Now reading the wh_file\n",
    "wh_data = pd.read_csv(wh_dir)\n",
    "wh_data.head()"
   ]
  },
  {
   "cell_type": "code",
   "execution_count": 4,
   "metadata": {},
   "outputs": [
    {
     "data": {
      "text/plain": [
       "<matplotlib.legend.Legend at 0x212217fe390>"
      ]
     },
     "execution_count": 4,
     "metadata": {},
     "output_type": "execute_result"
    },
    {
     "data": {
      "image/png": "[encoded data removed]",
      "text/plain": [
       "<Figure size 432x288 with 1 Axes>"
      ]
     },
     "metadata": {},
     "output_type": "display_data"
    }
   ],
   "source": [
    "# Now visulization of data\n",
    "height_hf_data = hf_data['height']\n",
    "foot_hf_data = hf_data['foot']\n",
    "\n",
    "plt.scatter(height_hf_data, foot_hf_data,c=['green','blue'], cmap = plt.cm.coolwarm)\n",
    "plt.ylabel(\"foot size\")\n",
    "plt.xlabel(\"height\")\n",
    "plt.title(\"foot & height ratio\")\n",
    "plt.legend()\n",
    "plt.show()"
   ]
  },
  {
   "cell_type": "code",
   "execution_count": 5,
   "metadata": {},
   "outputs": [
    {
     "name": "stdout",
     "output_type": "stream",
     "text": [
      "40     61.0\n",
      "39     74.0\n",
      "167    67.0\n",
      "156    61.0\n",
      "6      67.0\n",
      "93     61.0\n",
      "127    62.0\n",
      "14     65.0\n",
      "157    68.5\n",
      "69     71.0\n",
      "84     66.0\n",
      "44     65.0\n",
      "60     64.0\n",
      "158    69.0\n",
      "81     74.0\n",
      "108    72.0\n",
      "110    75.0\n",
      "190    73.0\n",
      "189    70.0\n",
      "37     68.0\n",
      "146    63.0\n",
      "124    69.0\n",
      "168    70.0\n",
      "29     69.0\n",
      "62     73.0\n",
      "182    60.0\n",
      "154    63.0\n",
      "135    66.0\n",
      "126    73.0\n",
      "172    64.0\n",
      "       ... \n",
      "66     64.0\n",
      "30     65.0\n",
      "12     69.0\n",
      "68     70.0\n",
      "144    67.0\n",
      "198    70.0\n",
      "103    62.0\n",
      "53     63.0\n",
      "67     71.0\n",
      "24     68.0\n",
      "80     63.0\n",
      "74     75.0\n",
      "109    67.0\n",
      "75     60.0\n",
      "47     66.0\n",
      "186    61.5\n",
      "112    72.0\n",
      "137    71.0\n",
      "159    65.0\n",
      "128    74.0\n",
      "117    69.0\n",
      "115    68.0\n",
      "43     72.0\n",
      "7      75.0\n",
      "50     70.0\n",
      "132    65.0\n",
      "191    65.5\n",
      "55     68.0\n",
      "107    68.0\n",
      "49     67.0\n",
      "Name: height, Length: 179, dtype: float64\n",
      "40      9.00\n",
      "39     12.00\n",
      "167     8.00\n",
      "156     9.00\n",
      "6       9.00\n",
      "93      8.50\n",
      "127     7.00\n",
      "14     10.00\n",
      "157    10.00\n",
      "69     11.00\n",
      "84     12.00\n",
      "44      8.00\n",
      "60      9.00\n",
      "158    11.00\n",
      "81     11.50\n",
      "108    11.00\n",
      "110    11.50\n",
      "190    11.00\n",
      "189    11.00\n",
      "37     10.00\n",
      "146    10.00\n",
      "124     9.00\n",
      "168    11.00\n",
      "29     10.00\n",
      "62     11.00\n",
      "182     9.50\n",
      "154    12.00\n",
      "135     8.00\n",
      "126    12.00\n",
      "172     9.50\n",
      "       ...  \n",
      "66      6.00\n",
      "30      8.00\n",
      "12     10.00\n",
      "68     10.00\n",
      "144     9.50\n",
      "198    10.00\n",
      "103     9.00\n",
      "53     13.00\n",
      "67     10.75\n",
      "24      9.00\n",
      "80     10.00\n",
      "74     12.00\n",
      "109    12.00\n",
      "75      6.00\n",
      "47     11.00\n",
      "186     8.50\n",
      "112    10.00\n",
      "137    10.00\n",
      "159     7.00\n",
      "128    13.00\n",
      "117    10.00\n",
      "115     9.00\n",
      "43     12.00\n",
      "7      13.00\n",
      "50     12.00\n",
      "132     9.00\n",
      "191     9.50\n",
      "55     10.00\n",
      "107    10.00\n",
      "49     12.00\n",
      "Name: foot, Length: 179, dtype: float64\n"
     ]
    }
   ],
   "source": [
    "# making the dataset\n",
    "train_x ,test_x , train_y, test_y = train_test_split(height_hf_data , foot_hf_data , test_size = 0.1)\n",
    "\n",
    "print(train_x); print(train_y)"
   ]
  },
  {
   "cell_type": "code",
   "execution_count": 6,
   "metadata": {},
   "outputs": [],
   "source": [
    "# linear model\n",
    "l = LinearRegression()"
   ]
  },
  {
   "cell_type": "code",
   "execution_count": 7,
   "metadata": {},
   "outputs": [],
   "source": [
    "# Since our model need two dimestion data so modefing it\n",
    "\n",
    "train_x = np.array(train_x).reshape(-1,1)\n",
    "test_x = np.array(test_x).reshape(-1,1)"
   ]
  },
  {
   "cell_type": "code",
   "execution_count": 8,
   "metadata": {},
   "outputs": [
    {
     "name": "stdout",
     "output_type": "stream",
     "text": [
      "LinearRegression(copy_X=True, fit_intercept=True, n_jobs=1, normalize=False)\n"
     ]
    }
   ],
   "source": [
    "a = l.fit(train_x , train_y)\n",
    "print(a)"
   ]
  },
  {
   "cell_type": "code",
   "execution_count": 9,
   "metadata": {},
   "outputs": [
    {
     "name": "stdout",
     "output_type": "stream",
     "text": [
      "0.36906389828875563\n"
     ]
    }
   ],
   "source": [
    "b = l.score(test_x , test_y)\n",
    "print(b)"
   ]
  },
  {
   "cell_type": "code",
   "execution_count": 10,
   "metadata": {},
   "outputs": [
    {
     "data": {
      "text/plain": [
       "Text(0.5,1,'foot & height ratio')"
      ]
     },
     "execution_count": 10,
     "metadata": {},
     "output_type": "execute_result"
    },
    {
     "data": {
      "image/png": "[encoded data removed]",
      "text/plain": [
       "<Figure size 432x288 with 1 Axes>"
      ]
     },
     "metadata": {},
     "output_type": "display_data"
    }
   ],
   "source": [
    "plt.scatter(height_hf_data, foot_hf_data, c=['green','blue'] , cmap=plt.cm.coolwarm)\n",
    "m ,b = np.polyfit(height_hf_data, foot_hf_data ,1)\n",
    "plt.plot(train_x,m*train_x+b , 'r')\n",
    "plt.legend()\n",
    "plt.ylabel(\"foot size\")\n",
    "plt.xlabel(\"height\")\n",
    "plt.title(\"foot & height ratio\")"
   ]
  },
  {
   "cell_type": "code",
   "execution_count": 11,
   "metadata": {},
   "outputs": [
    {
     "name": "stdout",
     "output_type": "stream",
     "text": [
      "[11.5465017  10.39183961 11.60647631 ...  9.27164591 10.44936378\n",
      "  8.83310151]\n"
     ]
    }
   ],
   "source": [
    "# Now , perdicting the value of foot for our wh data set\n",
    "height = np.array(wh_data[\"Height\"]).reshape(-1,1)\n",
    "\n",
    "predict_foot = l.predict(height)\n",
    "print(predict_foot)"
   ]
  },
  {
   "cell_type": "code",
   "execution_count": 12,
   "metadata": {},
   "outputs": [
    {
     "data": {
      "text/html": [
       "<div>\n",
       "<style scoped>\n",
       "    .dataframe tbody tr th:only-of-type {\n",
       "        vertical-align: middle;\n",
       "    }\n",
       "\n",
       "    .dataframe tbody tr th {\n",
       "        vertical-align: top;\n",
       "    }\n",
       "\n",
       "    .dataframe thead th {\n",
       "        text-align: right;\n",
       "    }\n",
       "</style>\n",
       "<table border=\"1\" class=\"dataframe\">\n",
       "  <thead>\n",
       "    <tr style=\"text-align: right;\">\n",
       "      <th></th>\n",
       "      <th>Gender</th>\n",
       "      <th>Height</th>\n",
       "      <th>Weight</th>\n",
       "    </tr>\n",
       "  </thead>\n",
       "  <tbody>\n",
       "    <tr>\n",
       "      <th>0</th>\n",
       "      <td>Male</td>\n",
       "      <td>73.847017</td>\n",
       "      <td>241.893563</td>\n",
       "    </tr>\n",
       "    <tr>\n",
       "      <th>1</th>\n",
       "      <td>Male</td>\n",
       "      <td>68.781904</td>\n",
       "      <td>162.310473</td>\n",
       "    </tr>\n",
       "    <tr>\n",
       "      <th>2</th>\n",
       "      <td>Male</td>\n",
       "      <td>74.110105</td>\n",
       "      <td>212.740856</td>\n",
       "    </tr>\n",
       "    <tr>\n",
       "      <th>3</th>\n",
       "      <td>Male</td>\n",
       "      <td>71.730978</td>\n",
       "      <td>220.042470</td>\n",
       "    </tr>\n",
       "    <tr>\n",
       "      <th>4</th>\n",
       "      <td>Male</td>\n",
       "      <td>69.881796</td>\n",
       "      <td>206.349801</td>\n",
       "    </tr>\n",
       "  </tbody>\n",
       "</table>\n",
       "</div>"
      ],
      "text/plain": [
       "  Gender     Height      Weight\n",
       "0   Male  73.847017  241.893563\n",
       "1   Male  68.781904  162.310473\n",
       "2   Male  74.110105  212.740856\n",
       "3   Male  71.730978  220.042470\n",
       "4   Male  69.881796  206.349801"
      ]
     },
     "execution_count": 12,
     "metadata": {},
     "output_type": "execute_result"
    }
   ],
   "source": [
    "wh_data.head()"
   ]
  },
  {
   "cell_type": "code",
   "execution_count": 13,
   "metadata": {},
   "outputs": [],
   "source": [
    "# now making the new csv for all foot-weight-height-gender\n",
    "\n",
    "df = pd.DataFrame(data = {\"Gender\": wh_data[\"Gender\"],\n",
    "                         \"Height\": wh_data[\"Height\"],\n",
    "                         \"Weight\": wh_data[\"Weight\"],\n",
    "                         \"Foot\": predict_foot })\n",
    "df.to_csv(whf_dir, sep = \",\", index = False)"
   ]
  },
  {
   "cell_type": "code",
   "execution_count": 14,
   "metadata": {},
   "outputs": [
    {
     "data": {
      "text/html": [
       "<div>\n",
       "<style scoped>\n",
       "    .dataframe tbody tr th:only-of-type {\n",
       "        vertical-align: middle;\n",
       "    }\n",
       "\n",
       "    .dataframe tbody tr th {\n",
       "        vertical-align: top;\n",
       "    }\n",
       "\n",
       "    .dataframe thead th {\n",
       "        text-align: right;\n",
       "    }\n",
       "</style>\n",
       "<table border=\"1\" class=\"dataframe\">\n",
       "  <thead>\n",
       "    <tr style=\"text-align: right;\">\n",
       "      <th></th>\n",
       "      <th>Gender</th>\n",
       "      <th>Height</th>\n",
       "      <th>Weight</th>\n",
       "      <th>Foot</th>\n",
       "    </tr>\n",
       "  </thead>\n",
       "  <tbody>\n",
       "    <tr>\n",
       "      <th>0</th>\n",
       "      <td>Male</td>\n",
       "      <td>73.847017</td>\n",
       "      <td>241.893563</td>\n",
       "      <td>11.546502</td>\n",
       "    </tr>\n",
       "    <tr>\n",
       "      <th>1</th>\n",
       "      <td>Male</td>\n",
       "      <td>68.781904</td>\n",
       "      <td>162.310473</td>\n",
       "      <td>10.391840</td>\n",
       "    </tr>\n",
       "    <tr>\n",
       "      <th>2</th>\n",
       "      <td>Male</td>\n",
       "      <td>74.110105</td>\n",
       "      <td>212.740856</td>\n",
       "      <td>11.606476</td>\n",
       "    </tr>\n",
       "    <tr>\n",
       "      <th>3</th>\n",
       "      <td>Male</td>\n",
       "      <td>71.730978</td>\n",
       "      <td>220.042470</td>\n",
       "      <td>11.064122</td>\n",
       "    </tr>\n",
       "    <tr>\n",
       "      <th>4</th>\n",
       "      <td>Male</td>\n",
       "      <td>69.881796</td>\n",
       "      <td>206.349801</td>\n",
       "      <td>10.642575</td>\n",
       "    </tr>\n",
       "  </tbody>\n",
       "</table>\n",
       "</div>"
      ],
      "text/plain": [
       "  Gender     Height      Weight       Foot\n",
       "0   Male  73.847017  241.893563  11.546502\n",
       "1   Male  68.781904  162.310473  10.391840\n",
       "2   Male  74.110105  212.740856  11.606476\n",
       "3   Male  71.730978  220.042470  11.064122\n",
       "4   Male  69.881796  206.349801  10.642575"
      ]
     },
     "execution_count": 14,
     "metadata": {},
     "output_type": "execute_result"
    }
   ],
   "source": [
    "# Now reading the file \n",
    "\n",
    "data = pd.read_csv(whf_dir)\n",
    "data.head()"
   ]
  },
  {
   "cell_type": "code",
   "execution_count": 15,
   "metadata": {},
   "outputs": [
    {
     "name": "stderr",
     "output_type": "stream",
     "text": [
      "No handles with labels found to put in legend.\n"
     ]
    },
    {
     "data": {
      "text/plain": [
       "<matplotlib.legend.Legend at 0x2122193cd68>"
      ]
     },
     "execution_count": 15,
     "metadata": {},
     "output_type": "execute_result"
    },
    {
     "data": {
      "image/png": "[encoded data removed]",
      "text/plain": [
       "<Figure size 432x288 with 1 Axes>"
      ]
     },
     "metadata": {},
     "output_type": "display_data"
    }
   ],
   "source": [
    "# Now Visulization of data in 3d\n",
    "\n",
    "fig = plt.figure()\n",
    "ax1 = fig.add_subplot(111, projection='3d')\n",
    "rs = np.array(data[\"Weight\"])\n",
    "z = rs.reshape(-1,1)\n",
    "\n",
    "ax1.scatter(data[\"Height\"], data[\"Foot\"], z)\n",
    "\n",
    "ax1.set_xlabel(\"Height\")\n",
    "ax1.set_ylabel(\"Foot\")\n",
    "ax1.set_zlabel(\"Weight\")\n",
    "ax1.legend()"
   ]
  },
  {
   "cell_type": "code",
   "execution_count": 16,
   "metadata": {},
   "outputs": [
    {
     "data": {
      "text/plain": [
       "Text(0.5,1,'Height & Weight Graph')"
      ]
     },
     "execution_count": 16,
     "metadata": {},
     "output_type": "execute_result"
    },
    {
     "data": {
      "image/png": "[encoded data removed]",
      "text/plain": [
       "<Figure size 432x288 with 1 Axes>"
      ]
     },
     "metadata": {},
     "output_type": "display_data"
    }
   ],
   "source": [
    "# Now Visulizing the data set of Height and Weight\n",
    "plt.scatter(data[\"Height\"], data[\"Weight\"], c=['red','blue'] , cmap=plt.cm.coolwarm )\n",
    "plt.legend()\n",
    "plt.xlabel(\"Height\")\n",
    "plt.ylabel(\"weight\")\n",
    "plt.title(\"Height & Weight Graph\")"
   ]
  },
  {
   "cell_type": "code",
   "execution_count": 17,
   "metadata": {},
   "outputs": [
    {
     "data": {
      "text/plain": [
       "Text(0.5,1,'Height & foot Graph')"
      ]
     },
     "execution_count": 17,
     "metadata": {},
     "output_type": "execute_result"
    },
    {
     "data": {
      "image/png": "[encoded data removed]",
      "text/plain": [
       "<Figure size 432x288 with 1 Axes>"
      ]
     },
     "metadata": {},
     "output_type": "display_data"
    }
   ],
   "source": [
    "plt.scatter(data[\"Height\"], data[\"Foot\"], c=['green','blue'])\n",
    "plt.legend()\n",
    "plt.xlabel(\"Height\")\n",
    "plt.ylabel(\"foot\")\n",
    "plt.title(\"Height & foot Graph\")"
   ]
  },
  {
   "cell_type": "code",
   "execution_count": 18,
   "metadata": {},
   "outputs": [],
   "source": [
    "gender = data[\"Gender\"]"
   ]
  },
  {
   "cell_type": "code",
   "execution_count": 19,
   "metadata": {},
   "outputs": [],
   "source": [
    "data.drop(\"Gender\", axis=1 , inplace=True)\n"
   ]
  },
  {
   "cell_type": "code",
   "execution_count": 20,
   "metadata": {},
   "outputs": [
    {
     "data": {
      "text/html": [
       "<div>\n",
       "<style scoped>\n",
       "    .dataframe tbody tr th:only-of-type {\n",
       "        vertical-align: middle;\n",
       "    }\n",
       "\n",
       "    .dataframe tbody tr th {\n",
       "        vertical-align: top;\n",
       "    }\n",
       "\n",
       "    .dataframe thead th {\n",
       "        text-align: right;\n",
       "    }\n",
       "</style>\n",
       "<table border=\"1\" class=\"dataframe\">\n",
       "  <thead>\n",
       "    <tr style=\"text-align: right;\">\n",
       "      <th></th>\n",
       "      <th>Height</th>\n",
       "      <th>Weight</th>\n",
       "      <th>Foot</th>\n",
       "    </tr>\n",
       "  </thead>\n",
       "  <tbody>\n",
       "    <tr>\n",
       "      <th>0</th>\n",
       "      <td>73.847017</td>\n",
       "      <td>241.893563</td>\n",
       "      <td>11.546502</td>\n",
       "    </tr>\n",
       "    <tr>\n",
       "      <th>1</th>\n",
       "      <td>68.781904</td>\n",
       "      <td>162.310473</td>\n",
       "      <td>10.391840</td>\n",
       "    </tr>\n",
       "    <tr>\n",
       "      <th>2</th>\n",
       "      <td>74.110105</td>\n",
       "      <td>212.740856</td>\n",
       "      <td>11.606476</td>\n",
       "    </tr>\n",
       "    <tr>\n",
       "      <th>3</th>\n",
       "      <td>71.730978</td>\n",
       "      <td>220.042470</td>\n",
       "      <td>11.064122</td>\n",
       "    </tr>\n",
       "    <tr>\n",
       "      <th>4</th>\n",
       "      <td>69.881796</td>\n",
       "      <td>206.349801</td>\n",
       "      <td>10.642575</td>\n",
       "    </tr>\n",
       "  </tbody>\n",
       "</table>\n",
       "</div>"
      ],
      "text/plain": [
       "      Height      Weight       Foot\n",
       "0  73.847017  241.893563  11.546502\n",
       "1  68.781904  162.310473  10.391840\n",
       "2  74.110105  212.740856  11.606476\n",
       "3  71.730978  220.042470  11.064122\n",
       "4  69.881796  206.349801  10.642575"
      ]
     },
     "execution_count": 20,
     "metadata": {},
     "output_type": "execute_result"
    }
   ],
   "source": [
    "data.head()"
   ]
  },
  {
   "cell_type": "code",
   "execution_count": 21,
   "metadata": {},
   "outputs": [],
   "source": [
    "train_x , test_x , train_y , test_y = train_test_split(data, gender , test_size = 0.3) "
   ]
  },
  {
   "cell_type": "code",
   "execution_count": 22,
   "metadata": {},
   "outputs": [
    {
     "name": "stdout",
     "output_type": "stream",
     "text": [
      "         Height      Weight       Foot\n",
      "4276  68.271050  172.941248  10.275383\n",
      "1277  72.385301  189.165592  11.213283\n",
      "1093  69.207100  172.775163  10.488769\n",
      "7942  63.530648  131.418934   9.194744\n",
      "9300  62.883526  149.606555   9.047223\n",
      "1884  73.049595  218.711327  11.364718\n",
      "8679  69.190436  172.235966  10.484970\n",
      "2557  69.050638  191.522275  10.453101\n",
      "4476  69.893269  196.075637  10.645190\n",
      "7454  64.853489  147.527955   9.496303\n",
      "8039  62.719589  121.811621   9.009852\n",
      "5257  61.124727  117.388949   8.646281\n",
      "6151  63.942624  125.194118   9.288659\n",
      "6148  64.842595  142.879180   9.493820\n",
      "7001  61.926250  113.648007   8.828999\n",
      "2573  69.895624  200.120361  10.645727\n",
      "1490  68.955280  207.744486  10.431363\n",
      "5435  61.456262  117.028717   8.721859\n",
      "6806  66.650540  158.221301   9.905966\n",
      "5560  61.991561  129.321530   8.843888\n",
      "131   65.806248  165.850648   9.713498\n",
      "8736  70.950659  193.225927  10.886237\n",
      "3333  63.873409  152.554620   9.272881\n",
      "9971  64.640247  155.318297   9.447692\n",
      "9345  67.771515  149.619377  10.161508\n",
      "9875  60.634439  120.640467   8.534513\n",
      "4543  73.223071  216.149218  11.404265\n",
      "8570  65.241429  128.721103   9.584740\n",
      "2960  68.275491  181.454462  10.276396\n",
      "3785  71.177083  205.619481  10.937853\n",
      "...         ...         ...        ...\n",
      "9461  64.160847  138.325502   9.338406\n",
      "4435  68.299514  184.840082  10.281872\n",
      "919   71.857888  193.429990  11.093052\n",
      "8620  57.445204   89.420895   7.807483\n",
      "6493  68.410117  153.465335  10.307086\n",
      "4749  68.262739  183.078953  10.273489\n",
      "8983  70.078764  184.215085  10.687477\n",
      "1694  63.571411  144.815032   9.204036\n",
      "4842  71.208566  204.242177  10.945030\n",
      "5335  64.948536  155.133186   9.517971\n",
      "5541  63.084171  148.955190   9.092963\n",
      "2126  71.370013  205.538501  10.981835\n",
      "406   70.949443  189.703089  10.885960\n",
      "8757  66.838762  153.326068   9.948874\n",
      "4522  70.770357  197.332613  10.845135\n",
      "2070  77.465569  252.556689  12.371400\n",
      "1334  68.390109  179.352182  10.302524\n",
      "6970  69.182960  175.992861  10.483266\n",
      "4624  68.977803  190.148682  10.436497\n",
      "7859  58.301035   92.298146   8.002581\n",
      "438   68.529408  169.544805  10.334280\n",
      "3517  62.470603  146.045528   8.953092\n",
      "4566  65.662512  170.932864   9.680731\n",
      "3625  73.077120  210.210137  11.370993\n",
      "8684  66.156815  128.207178   9.793414\n",
      "1516  64.807189  158.010843   9.485749\n",
      "2459  70.865815  201.511538  10.866896\n",
      "7472  60.181885  131.380101   8.431347\n",
      "4273  65.755324  166.965345   9.701889\n",
      "9723  61.801880  137.386649   8.800647\n",
      "\n",
      "[7000 rows x 3 columns]\n",
      "4276      Male\n",
      "1277      Male\n",
      "1093      Male\n",
      "7942    Female\n",
      "9300    Female\n",
      "1884      Male\n",
      "8679    Female\n",
      "2557      Male\n",
      "4476      Male\n",
      "7454    Female\n",
      "8039    Female\n",
      "5257    Female\n",
      "6151    Female\n",
      "6148    Female\n",
      "7001    Female\n",
      "2573      Male\n",
      "1490      Male\n",
      "5435    Female\n",
      "6806    Female\n",
      "5560    Female\n",
      "131       Male\n",
      "8736    Female\n",
      "3333      Male\n",
      "9971    Female\n",
      "9345    Female\n",
      "9875    Female\n",
      "4543      Male\n",
      "8570    Female\n",
      "2960      Male\n",
      "3785      Male\n",
      "         ...  \n",
      "9461    Female\n",
      "4435      Male\n",
      "919       Male\n",
      "8620    Female\n",
      "6493    Female\n",
      "4749      Male\n",
      "8983    Female\n",
      "1694      Male\n",
      "4842      Male\n",
      "5335    Female\n",
      "5541    Female\n",
      "2126      Male\n",
      "406       Male\n",
      "8757    Female\n",
      "4522      Male\n",
      "2070      Male\n",
      "1334      Male\n",
      "6970    Female\n",
      "4624      Male\n",
      "7859    Female\n",
      "438       Male\n",
      "3517      Male\n",
      "4566      Male\n",
      "3625      Male\n",
      "8684    Female\n",
      "1516      Male\n",
      "2459      Male\n",
      "7472    Female\n",
      "4273      Male\n",
      "9723    Female\n",
      "Name: Gender, Length: 7000, dtype: object\n"
     ]
    }
   ],
   "source": [
    "print(train_x); print(train_y)"
   ]
  },
  {
   "cell_type": "code",
   "execution_count": 23,
   "metadata": {},
   "outputs": [],
   "source": [
    "# Now making the model of Decsion tree classifier\n",
    "\n",
    "model = DecisionTreeClassifier()"
   ]
  },
  {
   "cell_type": "code",
   "execution_count": 24,
   "metadata": {},
   "outputs": [
    {
     "data": {
      "text/plain": [
       "DecisionTreeClassifier(class_weight=None, criterion='gini', max_depth=None,\n",
       "            max_features=None, max_leaf_nodes=None,\n",
       "            min_impurity_decrease=0.0, min_impurity_split=None,\n",
       "            min_samples_leaf=1, min_samples_split=2,\n",
       "            min_weight_fraction_leaf=0.0, presort=False, random_state=None,\n",
       "            splitter='best')"
      ]
     },
     "execution_count": 24,
     "metadata": {},
     "output_type": "execute_result"
    }
   ],
   "source": [
    "model.fit(train_x , train_y)"
   ]
  },
  {
   "cell_type": "code",
   "execution_count": 25,
   "metadata": {},
   "outputs": [
    {
     "data": {
      "text/plain": [
       "0.8733333333333333"
      ]
     },
     "execution_count": 25,
     "metadata": {},
     "output_type": "execute_result"
    }
   ],
   "source": [
    "model.score(test_x, test_y)"
   ]
  },
  {
   "cell_type": "code",
   "execution_count": 26,
   "metadata": {},
   "outputs": [],
   "source": [
    "predict_y = model.predict(test_x)"
   ]
  },
  {
   "cell_type": "code",
   "execution_count": 27,
   "metadata": {},
   "outputs": [
    {
     "name": "stdout",
     "output_type": "stream",
     "text": [
      "2127      Male\n",
      "3012      Male\n",
      "88        Male\n",
      "5485    Female\n",
      "4938      Male\n",
      "6489    Female\n",
      "3270      Male\n",
      "3451      Male\n",
      "7493    Female\n",
      "4680      Male\n",
      "7755    Female\n",
      "7307    Female\n",
      "8093    Female\n",
      "2632      Male\n",
      "1938      Male\n",
      "3006      Male\n",
      "8972    Female\n",
      "850       Male\n",
      "282       Male\n",
      "7159    Female\n",
      "247       Male\n",
      "5288    Female\n",
      "694       Male\n",
      "2394      Male\n",
      "8002    Female\n",
      "4148      Male\n",
      "7301    Female\n",
      "4513      Male\n",
      "4602      Male\n",
      "2848      Male\n",
      "         ...  \n",
      "4686      Male\n",
      "4949      Male\n",
      "8582    Female\n",
      "3570      Male\n",
      "4746      Male\n",
      "845       Male\n",
      "6685    Female\n",
      "3764      Male\n",
      "2545      Male\n",
      "9946    Female\n",
      "1307      Male\n",
      "3812      Male\n",
      "5987    Female\n",
      "9628    Female\n",
      "1975      Male\n",
      "5990    Female\n",
      "906       Male\n",
      "9560    Female\n",
      "93        Male\n",
      "8050    Female\n",
      "2941      Male\n",
      "3889      Male\n",
      "5282    Female\n",
      "1697      Male\n",
      "7721    Female\n",
      "7904    Female\n",
      "857       Male\n",
      "4426      Male\n",
      "5520    Female\n",
      "6416    Female\n",
      "Name: Gender, Length: 3000, dtype: object\n",
      "['Male' 'Male' 'Female' ... 'Male' 'Female' 'Female']\n"
     ]
    }
   ],
   "source": [
    "print(test_y); print(predict_y)"
   ]
  },
  {
   "cell_type": "code",
   "execution_count": 28,
   "metadata": {},
   "outputs": [
    {
     "data": {
      "text/plain": [
       "<matplotlib.axes._subplots.AxesSubplot at 0x21221e906a0>"
      ]
     },
     "execution_count": 28,
     "metadata": {},
     "output_type": "execute_result"
    },
    {
     "data": {
      "image/png": "[encoded data removed]",
      "text/plain": [
       "<Figure size 432x288 with 2 Axes>"
      ]
     },
     "metadata": {},
     "output_type": "display_data"
    }
   ],
   "source": [
    "sns.heatmap(sklearn.metrics.confusion_matrix(test_y, predict_y),annot=True, fmt = '.5g')"
   ]
  },
  {
   "cell_type": "code",
   "execution_count": null,
   "metadata": {},
   "outputs": [],
   "source": []
  }
 ],
 "metadata": {
  "kernelspec": {
   "display_name": "Python 3",
   "language": "python",
   "name": "python3"
  },
  "language_info": {
   "codemirror_mode": {
    "name": "ipython",
    "version": 3
   },
   "file_extension": ".py",
   "mimetype": "text/x-python",
   "name": "python",
   "nbconvert_exporter": "python",
   "pygments_lexer": "ipython3",
   "version": "3.6.7"
  }
 },
 "nbformat": 4,
 "nbformat_minor": 2
}
