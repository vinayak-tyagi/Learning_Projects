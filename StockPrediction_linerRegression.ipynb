{
 "cells": [
  {
   "cell_type": "code",
   "execution_count": 1,
   "metadata": {},
   "outputs": [],
   "source": [
    "import pandas as pd\n",
    "import quandl , math\n",
    "import numpy as np\n",
    "from sklearn import preprocessing\n",
    "from sklearn.model_selection import train_test_split\n",
    "from sklearn.linear_model import LinearRegression\n",
    "from sklearn import svm\n",
    "import matplotlib.pyplot as plt\n",
    "import pickle"
   ]
  },
  {
   "cell_type": "code",
   "execution_count": 2,
   "metadata": {},
   "outputs": [
    {
     "data": {
      "text/html": [
       "<div>\n",
       "<style scoped>\n",
       "    .dataframe tbody tr th:only-of-type {\n",
       "        vertical-align: middle;\n",
       "    }\n",
       "\n",
       "    .dataframe tbody tr th {\n",
       "        vertical-align: top;\n",
       "    }\n",
       "\n",
       "    .dataframe thead th {\n",
       "        text-align: right;\n",
       "    }\n",
       "</style>\n",
       "<table border=\"1\" class=\"dataframe\">\n",
       "  <thead>\n",
       "    <tr style=\"text-align: right;\">\n",
       "      <th></th>\n",
       "      <th>ticker</th>\n",
       "      <th>date</th>\n",
       "      <th>open</th>\n",
       "      <th>high</th>\n",
       "      <th>low</th>\n",
       "      <th>close</th>\n",
       "      <th>volume</th>\n",
       "      <th>ex-dividend</th>\n",
       "      <th>split_ratio</th>\n",
       "      <th>adj_open</th>\n",
       "      <th>adj_high</th>\n",
       "      <th>adj_low</th>\n",
       "      <th>adj_close</th>\n",
       "      <th>adj_volume</th>\n",
       "    </tr>\n",
       "  </thead>\n",
       "  <tbody>\n",
       "    <tr>\n",
       "      <th>0</th>\n",
       "      <td>A</td>\n",
       "      <td>1999-11-18</td>\n",
       "      <td>45.50</td>\n",
       "      <td>50.00</td>\n",
       "      <td>40.00</td>\n",
       "      <td>44.00</td>\n",
       "      <td>44739900.0</td>\n",
       "      <td>0.0</td>\n",
       "      <td>1.0</td>\n",
       "      <td>31.041951</td>\n",
       "      <td>34.112034</td>\n",
       "      <td>27.289627</td>\n",
       "      <td>30.018590</td>\n",
       "      <td>44739900.0</td>\n",
       "    </tr>\n",
       "    <tr>\n",
       "      <th>1</th>\n",
       "      <td>A</td>\n",
       "      <td>1999-11-19</td>\n",
       "      <td>42.94</td>\n",
       "      <td>43.00</td>\n",
       "      <td>39.81</td>\n",
       "      <td>40.38</td>\n",
       "      <td>10897100.0</td>\n",
       "      <td>0.0</td>\n",
       "      <td>1.0</td>\n",
       "      <td>29.295415</td>\n",
       "      <td>29.336350</td>\n",
       "      <td>27.160002</td>\n",
       "      <td>27.548879</td>\n",
       "      <td>10897100.0</td>\n",
       "    </tr>\n",
       "    <tr>\n",
       "      <th>2</th>\n",
       "      <td>A</td>\n",
       "      <td>1999-11-22</td>\n",
       "      <td>41.31</td>\n",
       "      <td>44.00</td>\n",
       "      <td>40.06</td>\n",
       "      <td>44.00</td>\n",
       "      <td>4705200.0</td>\n",
       "      <td>0.0</td>\n",
       "      <td>1.0</td>\n",
       "      <td>28.183363</td>\n",
       "      <td>30.018590</td>\n",
       "      <td>27.330562</td>\n",
       "      <td>30.018590</td>\n",
       "      <td>4705200.0</td>\n",
       "    </tr>\n",
       "    <tr>\n",
       "      <th>3</th>\n",
       "      <td>A</td>\n",
       "      <td>1999-11-23</td>\n",
       "      <td>42.50</td>\n",
       "      <td>43.63</td>\n",
       "      <td>40.25</td>\n",
       "      <td>40.25</td>\n",
       "      <td>4274400.0</td>\n",
       "      <td>0.0</td>\n",
       "      <td>1.0</td>\n",
       "      <td>28.995229</td>\n",
       "      <td>29.766161</td>\n",
       "      <td>27.460188</td>\n",
       "      <td>27.460188</td>\n",
       "      <td>4274400.0</td>\n",
       "    </tr>\n",
       "    <tr>\n",
       "      <th>4</th>\n",
       "      <td>A</td>\n",
       "      <td>1999-11-24</td>\n",
       "      <td>40.13</td>\n",
       "      <td>41.94</td>\n",
       "      <td>40.00</td>\n",
       "      <td>41.06</td>\n",
       "      <td>3464400.0</td>\n",
       "      <td>0.0</td>\n",
       "      <td>1.0</td>\n",
       "      <td>27.378319</td>\n",
       "      <td>28.613174</td>\n",
       "      <td>27.289627</td>\n",
       "      <td>28.012803</td>\n",
       "      <td>3464400.0</td>\n",
       "    </tr>\n",
       "  </tbody>\n",
       "</table>\n",
       "</div>"
      ],
      "text/plain": [
       "  ticker        date   open   high    low  close      volume  ex-dividend  \\\n",
       "0      A  1999-11-18  45.50  50.00  40.00  44.00  44739900.0          0.0   \n",
       "1      A  1999-11-19  42.94  43.00  39.81  40.38  10897100.0          0.0   \n",
       "2      A  1999-11-22  41.31  44.00  40.06  44.00   4705200.0          0.0   \n",
       "3      A  1999-11-23  42.50  43.63  40.25  40.25   4274400.0          0.0   \n",
       "4      A  1999-11-24  40.13  41.94  40.00  41.06   3464400.0          0.0   \n",
       "\n",
       "   split_ratio   adj_open   adj_high    adj_low  adj_close  adj_volume  \n",
       "0          1.0  31.041951  34.112034  27.289627  30.018590  44739900.0  \n",
       "1          1.0  29.295415  29.336350  27.160002  27.548879  10897100.0  \n",
       "2          1.0  28.183363  30.018590  27.330562  30.018590   4705200.0  \n",
       "3          1.0  28.995229  29.766161  27.460188  27.460188   4274400.0  \n",
       "4          1.0  27.378319  28.613174  27.289627  28.012803   3464400.0  "
      ]
     },
     "execution_count": 2,
     "metadata": {},
     "output_type": "execute_result"
    }
   ],
   "source": [
    "file = \"C:\\\\Users\\\\vinayak tyagi\\\\Downloads\\\\WIKI-PRICES.csv\"\n",
    "\n",
    "df = pd.read_csv(file)\n",
    "df.head()"
   ]
  },
  {
   "cell_type": "code",
   "execution_count": 3,
   "metadata": {},
   "outputs": [
    {
     "name": "stdout",
     "output_type": "stream",
     "text": [
      "    adj_open   adj_high    adj_low  adj_close  adj_volume\n",
      "0  31.041951  34.112034  27.289627  30.018590  44739900.0\n",
      "1  29.295415  29.336350  27.160002  27.548879  10897100.0\n",
      "2  28.183363  30.018590  27.330562  30.018590   4705200.0\n",
      "3  28.995229  29.766161  27.460188  27.460188   4274400.0\n",
      "4  27.378319  28.613174  27.289627  28.012803   3464400.0\n"
     ]
    }
   ],
   "source": [
    "df = df[['adj_open','adj_high','adj_low','adj_close','adj_volume']]\n",
    "print(df.head())"
   ]
  },
  {
   "cell_type": "code",
   "execution_count": 4,
   "metadata": {},
   "outputs": [
    {
     "name": "stdout",
     "output_type": "stream",
     "text": [
      "   adj_close     HL_PCT  PCT_change  adj_volume\n",
      "0  30.018590  13.636364   -3.296703  44739900.0\n",
      "1  27.548879   6.488361   -5.961807  10897100.0\n",
      "2  30.018590   0.000000    6.511740   4705200.0\n",
      "3  27.460188   8.397516   -5.294118   4274400.0\n",
      "4  28.012803   2.143205    2.317468   3464400.0\n"
     ]
    }
   ],
   "source": [
    "df[\"HL_PCT\"] = (df['adj_high'] - df['adj_close'])/df['adj_close'] * 100\n",
    "df[\"PCT_change\"] = (df['adj_close'] - df['adj_open'])/df['adj_open'] * 100\n",
    "\n",
    "df = df[[\"adj_close\",\"HL_PCT\",\"PCT_change\",\"adj_volume\"]]\n",
    "print(df.head())"
   ]
  },
  {
   "cell_type": "code",
   "execution_count": 5,
   "metadata": {},
   "outputs": [
    {
     "name": "stdout",
     "output_type": "stream",
     "text": [
      "   adj_close     HL_PCT  PCT_change  adj_volume      label\n",
      "0  30.018590  13.636364   -3.296703  44739900.0  58.672699\n",
      "1  27.548879   6.488361   -5.961807  10897100.0  61.401662\n",
      "2  30.018590   0.000000    6.511740   4705200.0  56.414482\n",
      "3  27.460188   8.397516   -5.294118   4274400.0  54.238135\n",
      "4  28.012803   2.143205    2.317468   3464400.0  59.354940\n"
     ]
    }
   ],
   "source": [
    "forecast_col = 'adj_close'\n",
    "df.fillna(-99999, inplace = True)\n",
    "\n",
    "forecast = int(math.ceil(0.01*len(df)))\n",
    "\n",
    "df['label'] = df[forecast_col].shift(-forecast)\n",
    "df.dropna(inplace = True)\n",
    "\n",
    "print(df.head())"
   ]
  },
  {
   "cell_type": "code",
   "execution_count": 6,
   "metadata": {},
   "outputs": [
    {
     "name": "stdout",
     "output_type": "stream",
     "text": [
      "[[-0.24335685  3.95431101 -0.9010575   8.7261177 ]\n",
      " [-0.26100841  1.50847719 -1.61278172  1.49730771]\n",
      " [-0.24335685 -0.71164662  1.71831767  0.17472009]\n",
      " ...\n",
      " [-0.43920207 -0.71164662  0.33540806 -0.81531426]\n",
      " [-0.43920207 -0.71164662 -0.02066272 -0.83003069]\n",
      " [-0.43969428  0.21313778 -0.72343399 -0.75851752]] [58.672699   61.40166175 56.41448233 ...  1.99716609  2.03159999\n",
      "  2.10046779]\n",
      "9900 9900\n"
     ]
    }
   ],
   "source": [
    "X = np.array(df.drop(['label'],1))\n",
    "y = np.array(df['label'])\n",
    "\n",
    "X = preprocessing.scale(X)\n",
    "print(X,y)\n",
    "print(len(X),len(y))"
   ]
  },
  {
   "cell_type": "code",
   "execution_count": 7,
   "metadata": {},
   "outputs": [
    {
     "name": "stdout",
     "output_type": "stream",
     "text": [
      "0.6590938839767342\n"
     ]
    }
   ],
   "source": [
    "X_train, X_test, y_train, y_test = train_test_split(X,y,test_size = 0.2) \n",
    "\n",
    "clf = LinearRegression()\n",
    "clf.fit(X_train,y_train)\n",
    "\n",
    "# THIS IS USED SAVED THE MODEL NO NEED TO TRAIN AGAIN \n",
    "with open('stockPrediction_lr.pickle','wb') as f:\n",
    "    pickle.dump(clf,f)\n",
    "\n",
    "pickle_in = open(\"stockPrediction_lr.pickle\",\"rb\")\n",
    "clf = pickle.load(pickle_in)\n",
    "\n",
    "acc = clf.score(X_test,y_test)\n",
    "print(acc)"
   ]
  },
  {
   "cell_type": "code",
   "execution_count": 8,
   "metadata": {},
   "outputs": [
    {
     "name": "stdout",
     "output_type": "stream",
     "text": [
      "[19.07257388 15.86484644 15.98579774 18.12689662 16.00654385 17.32318692\n",
      " 15.48953604 17.30580548 15.71233938 17.27648426 18.18091565 17.28533728\n",
      " 17.24545736 17.54990901 15.62923647 17.27395559 17.241223   17.27648426\n",
      " 15.04928297 15.96785822 19.09302297 17.19752444 17.17023351 14.00570935\n",
      " 17.25057441 16.47535002 17.27395559 17.24545736 17.24975141 16.62456746\n",
      " 18.1040127  17.24886872 17.25057441 18.18862108 17.29474839 17.30580548\n",
      " 17.27477858 17.27818995 16.65415324 15.07998527 17.32318692 17.34568541\n",
      " 16.12110984 20.0418028  19.1508111  15.52240491 17.46979304 15.43606329\n",
      " 16.38886432 17.43062772 15.92822609 17.38441774 15.25249058 17.29011248\n",
      " 17.23790276 15.05996755 14.95443133 15.52485033 19.57275304 17.30157113\n",
      " 17.30580548 15.68334276 17.27566127 16.03352791 14.44033286 17.25057441\n",
      " 16.65979051 17.28874865 17.21222638 15.78364442 17.24545736 19.06743772\n",
      " 13.1229314  15.74008262 18.19182554 17.26113311 15.69658111 15.97126958\n",
      " 17.27566127 17.2119929  14.15922085 17.16870161 15.87575132 19.13819373\n",
      " 17.30580548 17.24975141 17.24804573 16.94485366 17.21646074 15.23780459\n",
      " 17.3040998  16.25487653 18.20618456 17.34997947 14.3315318  15.99544191\n",
      " 18.20486626 18.22942235 17.41544465 14.27515925]\n"
     ]
    }
   ],
   "source": [
    "# predicting the vlaue\n",
    "X_Z = X[-forecast:]\n",
    "z = clf.predict(X_Z)\n",
    "print(z)"
   ]
  },
  {
   "cell_type": "code",
   "execution_count": null,
   "metadata": {},
   "outputs": [],
   "source": []
  },
  {
   "cell_type": "code",
   "execution_count": null,
   "metadata": {},
   "outputs": [],
   "source": []
  },
  {
   "cell_type": "code",
   "execution_count": null,
   "metadata": {},
   "outputs": [],
   "source": []
  }
 ],
 "metadata": {
  "kernelspec": {
   "display_name": "Python 3",
   "language": "python",
   "name": "python3"
  },
  "language_info": {
   "codemirror_mode": {
    "name": "ipython",
    "version": 3
   },
   "file_extension": ".py",
   "mimetype": "text/x-python",
   "name": "python",
   "nbconvert_exporter": "python",
   "pygments_lexer": "ipython3",
   "version": "3.6.7"
  }
 },
 "nbformat": 4,
 "nbformat_minor": 2
}
