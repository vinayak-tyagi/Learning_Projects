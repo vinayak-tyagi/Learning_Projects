{
 "cells": [
  {
   "cell_type": "code",
   "execution_count": 1,
   "metadata": {},
   "outputs": [
    {
     "data": {
      "text/html": [
       "<div>\n",
       "<style scoped>\n",
       "    .dataframe tbody tr th:only-of-type {\n",
       "        vertical-align: middle;\n",
       "    }\n",
       "\n",
       "    .dataframe tbody tr th {\n",
       "        vertical-align: top;\n",
       "    }\n",
       "\n",
       "    .dataframe thead th {\n",
       "        text-align: right;\n",
       "    }\n",
       "</style>\n",
       "<table border=\"1\" class=\"dataframe\">\n",
       "  <thead>\n",
       "    <tr style=\"text-align: right;\">\n",
       "      <th></th>\n",
       "      <th>Unnamed: 0</th>\n",
       "      <th>EngDispl</th>\n",
       "      <th>NumCyl</th>\n",
       "      <th>Transmission</th>\n",
       "      <th>FE</th>\n",
       "      <th>AirAspirationMethod</th>\n",
       "      <th>NumGears</th>\n",
       "      <th>TransLockup</th>\n",
       "      <th>TransCreeperGear</th>\n",
       "      <th>DriveDesc</th>\n",
       "      <th>IntakeValvePerCyl</th>\n",
       "      <th>ExhaustValvesPerCyl</th>\n",
       "      <th>CarlineClassDesc</th>\n",
       "      <th>VarValveTiming</th>\n",
       "      <th>VarValveLift</th>\n",
       "    </tr>\n",
       "  </thead>\n",
       "  <tbody>\n",
       "    <tr>\n",
       "      <th>0</th>\n",
       "      <td>1088</td>\n",
       "      <td>4.7</td>\n",
       "      <td>8</td>\n",
       "      <td>AM6</td>\n",
       "      <td>28.0198</td>\n",
       "      <td>NaturallyAspirated</td>\n",
       "      <td>6</td>\n",
       "      <td>1</td>\n",
       "      <td>0</td>\n",
       "      <td>TwoWheelDriveRear</td>\n",
       "      <td>2</td>\n",
       "      <td>2</td>\n",
       "      <td>2Seaters</td>\n",
       "      <td>1</td>\n",
       "      <td>0</td>\n",
       "    </tr>\n",
       "    <tr>\n",
       "      <th>1</th>\n",
       "      <td>1089</td>\n",
       "      <td>4.7</td>\n",
       "      <td>8</td>\n",
       "      <td>M6</td>\n",
       "      <td>25.6094</td>\n",
       "      <td>NaturallyAspirated</td>\n",
       "      <td>6</td>\n",
       "      <td>1</td>\n",
       "      <td>0</td>\n",
       "      <td>TwoWheelDriveRear</td>\n",
       "      <td>2</td>\n",
       "      <td>2</td>\n",
       "      <td>2Seaters</td>\n",
       "      <td>1</td>\n",
       "      <td>0</td>\n",
       "    </tr>\n",
       "    <tr>\n",
       "      <th>2</th>\n",
       "      <td>1090</td>\n",
       "      <td>4.2</td>\n",
       "      <td>8</td>\n",
       "      <td>M6</td>\n",
       "      <td>26.8000</td>\n",
       "      <td>NaturallyAspirated</td>\n",
       "      <td>6</td>\n",
       "      <td>1</td>\n",
       "      <td>0</td>\n",
       "      <td>AllWheelDrive</td>\n",
       "      <td>2</td>\n",
       "      <td>2</td>\n",
       "      <td>2Seaters</td>\n",
       "      <td>1</td>\n",
       "      <td>0</td>\n",
       "    </tr>\n",
       "    <tr>\n",
       "      <th>3</th>\n",
       "      <td>1091</td>\n",
       "      <td>4.2</td>\n",
       "      <td>8</td>\n",
       "      <td>AM6</td>\n",
       "      <td>25.0451</td>\n",
       "      <td>NaturallyAspirated</td>\n",
       "      <td>6</td>\n",
       "      <td>1</td>\n",
       "      <td>0</td>\n",
       "      <td>AllWheelDrive</td>\n",
       "      <td>2</td>\n",
       "      <td>2</td>\n",
       "      <td>2Seaters</td>\n",
       "      <td>1</td>\n",
       "      <td>0</td>\n",
       "    </tr>\n",
       "    <tr>\n",
       "      <th>4</th>\n",
       "      <td>1092</td>\n",
       "      <td>5.2</td>\n",
       "      <td>10</td>\n",
       "      <td>AM6</td>\n",
       "      <td>24.8000</td>\n",
       "      <td>NaturallyAspirated</td>\n",
       "      <td>6</td>\n",
       "      <td>0</td>\n",
       "      <td>0</td>\n",
       "      <td>AllWheelDrive</td>\n",
       "      <td>2</td>\n",
       "      <td>2</td>\n",
       "      <td>2Seaters</td>\n",
       "      <td>1</td>\n",
       "      <td>0</td>\n",
       "    </tr>\n",
       "  </tbody>\n",
       "</table>\n",
       "</div>"
      ],
      "text/plain": [
       "   Unnamed: 0  EngDispl  NumCyl Transmission       FE AirAspirationMethod  \\\n",
       "0        1088       4.7       8          AM6  28.0198  NaturallyAspirated   \n",
       "1        1089       4.7       8           M6  25.6094  NaturallyAspirated   \n",
       "2        1090       4.2       8           M6  26.8000  NaturallyAspirated   \n",
       "3        1091       4.2       8          AM6  25.0451  NaturallyAspirated   \n",
       "4        1092       5.2      10          AM6  24.8000  NaturallyAspirated   \n",
       "\n",
       "   NumGears  TransLockup  TransCreeperGear          DriveDesc  \\\n",
       "0         6            1                 0  TwoWheelDriveRear   \n",
       "1         6            1                 0  TwoWheelDriveRear   \n",
       "2         6            1                 0      AllWheelDrive   \n",
       "3         6            1                 0      AllWheelDrive   \n",
       "4         6            0                 0      AllWheelDrive   \n",
       "\n",
       "   IntakeValvePerCyl  ExhaustValvesPerCyl CarlineClassDesc  VarValveTiming  \\\n",
       "0                  2                    2         2Seaters               1   \n",
       "1                  2                    2         2Seaters               1   \n",
       "2                  2                    2         2Seaters               1   \n",
       "3                  2                    2         2Seaters               1   \n",
       "4                  2                    2         2Seaters               1   \n",
       "\n",
       "   VarValveLift  \n",
       "0             0  \n",
       "1             0  \n",
       "2             0  \n",
       "3             0  \n",
       "4             0  "
      ]
     },
     "execution_count": 1,
     "metadata": {},
     "output_type": "execute_result"
    }
   ],
   "source": [
    "import pandas as pd\n",
    "import numpy as np\n",
    "from __future__ import division\n",
    "\n",
    "cars10 = pd.read_csv(\"C:/Users/vinayak tyagi/Downloads/c2010.csv\")\n",
    "cars11 = pd.read_csv(\"C:/Users/vinayak tyagi/Downloads/c2011.csv\")\n",
    "\n",
    "cars10.head(5)"
   ]
  },
  {
   "cell_type": "code",
   "execution_count": 2,
   "metadata": {},
   "outputs": [
    {
     "data": {
      "text/plain": [
       "Unnamed: 0             245\n",
       "EngDispl               245\n",
       "NumCyl                 245\n",
       "Transmission           245\n",
       "FE                     245\n",
       "AirAspirationMethod    245\n",
       "NumGears               245\n",
       "TransLockup            245\n",
       "TransCreeperGear       245\n",
       "DriveDesc              245\n",
       "IntakeValvePerCyl      245\n",
       "ExhaustValvesPerCyl    245\n",
       "CarlineClassDesc       245\n",
       "VarValveTiming         245\n",
       "VarValveLift           245\n",
       "dtype: int64"
      ]
     },
     "execution_count": 2,
     "metadata": {},
     "output_type": "execute_result"
    }
   ],
   "source": [
    "cars10.count()\n",
    "cars11.count()"
   ]
  },
  {
   "cell_type": "code",
   "execution_count": 3,
   "metadata": {},
   "outputs": [
    {
     "name": "stdout",
     "output_type": "stream",
     "text": [
      "(1107, 15)\n",
      "(245, 15)\n"
     ]
    }
   ],
   "source": [
    "print(cars10.shape)\n",
    "print(cars11.shape)"
   ]
  },
  {
   "cell_type": "code",
   "execution_count": 4,
   "metadata": {},
   "outputs": [],
   "source": [
    "c10_feat = cars10.get(['EngDispl'])\n",
    "c10_label = cars10.get(['FE'])\n",
    "c11_feat = cars11.get(['EngDispl'])\n",
    "c11_label = cars11.get(['FE'])"
   ]
  },
  {
   "cell_type": "code",
   "execution_count": 5,
   "metadata": {},
   "outputs": [
    {
     "data": {
      "text/html": [
       "<div>\n",
       "<style scoped>\n",
       "    .dataframe tbody tr th:only-of-type {\n",
       "        vertical-align: middle;\n",
       "    }\n",
       "\n",
       "    .dataframe tbody tr th {\n",
       "        vertical-align: top;\n",
       "    }\n",
       "\n",
       "    .dataframe thead th {\n",
       "        text-align: right;\n",
       "    }\n",
       "</style>\n",
       "<table border=\"1\" class=\"dataframe\">\n",
       "  <thead>\n",
       "    <tr style=\"text-align: right;\">\n",
       "      <th></th>\n",
       "      <th>EngDispl</th>\n",
       "    </tr>\n",
       "  </thead>\n",
       "  <tbody>\n",
       "    <tr>\n",
       "      <th>0</th>\n",
       "      <td>4.7</td>\n",
       "    </tr>\n",
       "    <tr>\n",
       "      <th>1</th>\n",
       "      <td>4.7</td>\n",
       "    </tr>\n",
       "    <tr>\n",
       "      <th>2</th>\n",
       "      <td>4.2</td>\n",
       "    </tr>\n",
       "    <tr>\n",
       "      <th>3</th>\n",
       "      <td>4.2</td>\n",
       "    </tr>\n",
       "    <tr>\n",
       "      <th>4</th>\n",
       "      <td>5.2</td>\n",
       "    </tr>\n",
       "  </tbody>\n",
       "</table>\n",
       "</div>"
      ],
      "text/plain": [
       "   EngDispl\n",
       "0       4.7\n",
       "1       4.7\n",
       "2       4.2\n",
       "3       4.2\n",
       "4       5.2"
      ]
     },
     "execution_count": 5,
     "metadata": {},
     "output_type": "execute_result"
    }
   ],
   "source": [
    "c10_feat.head(5)"
   ]
  },
  {
   "cell_type": "code",
   "execution_count": 6,
   "metadata": {},
   "outputs": [
    {
     "data": {
      "text/html": [
       "<div>\n",
       "<style scoped>\n",
       "    .dataframe tbody tr th:only-of-type {\n",
       "        vertical-align: middle;\n",
       "    }\n",
       "\n",
       "    .dataframe tbody tr th {\n",
       "        vertical-align: top;\n",
       "    }\n",
       "\n",
       "    .dataframe thead th {\n",
       "        text-align: right;\n",
       "    }\n",
       "</style>\n",
       "<table border=\"1\" class=\"dataframe\">\n",
       "  <thead>\n",
       "    <tr style=\"text-align: right;\">\n",
       "      <th></th>\n",
       "      <th>FE</th>\n",
       "    </tr>\n",
       "  </thead>\n",
       "  <tbody>\n",
       "    <tr>\n",
       "      <th>0</th>\n",
       "      <td>28.0198</td>\n",
       "    </tr>\n",
       "    <tr>\n",
       "      <th>1</th>\n",
       "      <td>25.6094</td>\n",
       "    </tr>\n",
       "    <tr>\n",
       "      <th>2</th>\n",
       "      <td>26.8000</td>\n",
       "    </tr>\n",
       "    <tr>\n",
       "      <th>3</th>\n",
       "      <td>25.0451</td>\n",
       "    </tr>\n",
       "    <tr>\n",
       "      <th>4</th>\n",
       "      <td>24.8000</td>\n",
       "    </tr>\n",
       "  </tbody>\n",
       "</table>\n",
       "</div>"
      ],
      "text/plain": [
       "        FE\n",
       "0  28.0198\n",
       "1  25.6094\n",
       "2  26.8000\n",
       "3  25.0451\n",
       "4  24.8000"
      ]
     },
     "execution_count": 6,
     "metadata": {},
     "output_type": "execute_result"
    }
   ],
   "source": [
    "c10_label.head(5)"
   ]
  },
  {
   "cell_type": "code",
   "execution_count": 7,
   "metadata": {},
   "outputs": [
    {
     "data": {
      "text/plain": [
       "<Figure size 720x540 with 0 Axes>"
      ]
     },
     "metadata": {},
     "output_type": "display_data"
    }
   ],
   "source": [
    "%matplotlib inline\n",
    "import matplotlib.pyplot as plt\n",
    "\n",
    "\n",
    "# for some default confrig rcParams stands for row col parameter\n",
    "plt.rcParams['figure.figsize'] = 10 ,7.5\n",
    "plt.rcParams['axes.grid'] = True\n",
    "plt.gray()"
   ]
  },
  {
   "cell_type": "code",
   "execution_count": 8,
   "metadata": {},
   "outputs": [
    {
     "data": {
      "text/plain": [
       "Text(0.06,0.5,'Fuel Efficency')"
      ]
     },
     "execution_count": 8,
     "metadata": {},
     "output_type": "execute_result"
    },
    {
     "data": {
      "image/png": "[encoded data removed]",
      "text/plain": [
       "<Figure size 432x288 with 2 Axes>"
      ]
     },
     "metadata": {},
     "output_type": "display_data"
    }
   ],
   "source": [
    "fig, (ax1, ax2) = plt.subplots(1, 2, sharey = True)\n",
    "\n",
    "ax1.scatter(c10_feat, c10_label)\n",
    "ax1.set_title(\"2010 car models\")\n",
    "\n",
    "ax2.scatter(c11_feat, c11_label)\n",
    "ax2.set_title(\"2011 car models\")\n",
    "\n",
    "fig.text(0.5, 0.04, \"Engine Displacement\", ha = 'center' , va ='center')\n",
    "fig.text(0.06, 0.5, \"Fuel Efficency\", ha = 'center', va = 'center' , rotation = 'vertical')"
   ]
  },
  {
   "cell_type": "code",
   "execution_count": 9,
   "metadata": {},
   "outputs": [],
   "source": [
    "# rmse or cost funtion defining a funtion rmse \n",
    "\n",
    "from sklearn.metrics import mean_squared_error\n",
    "\n",
    "def rmse(y_actual, y_predicit):\n",
    "         return np.sqrt(mean_squared_error(y_actual , y_predicit))"
   ]
  },
  {
   "cell_type": "code",
   "execution_count": 10,
   "metadata": {},
   "outputs": [
    {
     "name": "stdout",
     "output_type": "stream",
     "text": [
      "Least square estimate: intercept = [50.56322991], coefficient =[-4.52092928]\n"
     ]
    }
   ],
   "source": [
    "# liner regression\n",
    "\n",
    "from sklearn.linear_model import LinearRegression\n",
    "\n",
    "reg = LinearRegression()\n",
    "reg.fit(c10_feat, c10_label)\n",
    "\n",
    "# intersept is c & coef is m in y = mx+c\n",
    "print (\"Least square estimate: intercept = {0}, coefficient ={1}\".format(reg.intercept_, reg.coef_[0]))"
   ]
  },
  {
   "cell_type": "code",
   "execution_count": 11,
   "metadata": {},
   "outputs": [
    {
     "data": {
      "text/plain": [
       "Text(0,0.5,'Predicted')"
      ]
     },
     "execution_count": 11,
     "metadata": {},
     "output_type": "execute_result"
    },
    {
     "data": {
      "image/png": "[encoded data removed]",
      "text/plain": [
       "<Figure size 432x288 with 2 Axes>"
      ]
     },
     "metadata": {},
     "output_type": "display_data"
    }
   ],
   "source": [
    "X = np.linspace(np.min(c10_feat)[0], np.max(c10_feat)[0])[:, np.newaxis]\n",
    "y = reg.predict(X)\n",
    "cars10_label_pridict = reg.predict(c10_feat)\n",
    "y_range = np.linspace(np.min(c10_label)[0], np.max(c10_label)[0])[:, np.newaxis]\n",
    "\n",
    "# print(X); print(y); print(cars10_label_pridict); print(y_range)\n",
    "\n",
    "fig, (ax1, ax2) = plt.subplots(1,2)\n",
    "\n",
    "ax1.scatter(c10_feat, c10_label)\n",
    "ax1.plot(X,y, 'r')\n",
    "ax1.set_title('2010 Model Year')\n",
    "ax1.set_xlabel('Engine Displacement')\n",
    "ax1.set_ylabel('Fuel Efficiency')\n",
    "\n",
    "ax2.scatter(c10_label, cars10_label_pridict)\n",
    "ax2.plot(y_range, y_range, 'r--')\n",
    "ax2.set_xlabel('Observed')\n",
    "ax2.set_ylabel('Predicted')"
   ]
  },
  {
   "cell_type": "code",
   "execution_count": 12,
   "metadata": {},
   "outputs": [
    {
     "name": "stdout",
     "output_type": "stream",
     "text": [
      "RMSE: 4.72774096020463\n"
     ]
    }
   ],
   "source": [
    "# calculate root mean square error (RMSE)\n",
    "from sklearn.model_selection import cross_val_score\n",
    "\n",
    "scores = np.sqrt(np.abs(cross_val_score(reg, c10_feat, c10_label, cv=10, scoring='neg_mean_squared_error')))\n",
    "print (\"RMSE: {0}\".format(np.mean(scores)))"
   ]
  },
  {
   "cell_type": "code",
   "execution_count": 13,
   "metadata": {},
   "outputs": [
    {
     "name": "stdout",
     "output_type": "stream",
     "text": [
      "RMSE: 4.34528462825047\n"
     ]
    }
   ],
   "source": [
    "# quadratic model\n",
    "from sklearn.preprocessing import PolynomialFeatures\n",
    "from sklearn.pipeline import make_pipeline\n",
    "\n",
    "# hence the degree of co-oefficient is incresed so we used pipeline\n",
    "quad = make_pipeline(PolynomialFeatures(2), LinearRegression())\n",
    "quad.fit(c10_feat, c10_label)\n",
    "\n",
    "scores = np.sqrt(np.abs(cross_val_score(quad, c10_feat, c10_label, cv=10, scoring='neg_mean_squared_error')))\n",
    "print (\"RMSE: {0}\".format(np.mean(scores)))"
   ]
  },
  {
   "cell_type": "code",
   "execution_count": 14,
   "metadata": {},
   "outputs": [
    {
     "data": {
      "text/plain": [
       "Text(0,0.5,'Predicted')"
      ]
     },
     "execution_count": 14,
     "metadata": {},
     "output_type": "execute_result"
    },
    {
     "data": {
      "image/png": "[encoded data removed]",
      "text/plain": [
       "<Figure size 432x288 with 2 Axes>"
      ]
     },
     "metadata": {},
     "output_type": "display_data"
    }
   ],
   "source": [
    "X = np.linspace(np.min(c10_feat)[0], np.max(c10_feat)[0])[:, np.newaxis]\n",
    "y = quad.predict(X)\n",
    "cars10_target_pred = quad.predict(c10_feat)\n",
    "y_range = np.linspace(np.min(c10_label)[0], np.max(c10_label)[0])[:, np.newaxis]\n",
    "\n",
    "# print(X); print(y); print(cars10_target_pred); print(y_range)\n",
    "fig, (ax1, ax2) = plt.subplots(1, 2)\n",
    "\n",
    "ax1.scatter(c10_feat, c10_label)\n",
    "ax1.plot(X, y, 'r')\n",
    "ax1.set_title('2010 Model Year')\n",
    "ax1.set_xlabel('Engine Displacement')\n",
    "ax1.set_ylabel('Fuel Efficiency (MPG)')\n",
    "\n",
    "ax2.scatter(c10_label, cars10_target_pred)\n",
    "ax2.plot(y_range, y_range, 'r--')\n",
    "ax2.set_xlabel('Observed')\n",
    "ax2.set_ylabel('Predicted')"
   ]
  },
  {
   "cell_type": "code",
   "execution_count": null,
   "metadata": {},
   "outputs": [],
   "source": []
  }
 ],
 "metadata": {
  "kernelspec": {
   "display_name": "Python 3",
   "language": "python",
   "name": "python3"
  },
  "language_info": {
   "codemirror_mode": {
    "name": "ipython",
    "version": 3
   },
   "file_extension": ".py",
   "mimetype": "text/x-python",
   "name": "python",
   "nbconvert_exporter": "python",
   "pygments_lexer": "ipython3",
   "version": "3.6.7"
  }
 },
 "nbformat": 4,
 "nbformat_minor": 2
}
